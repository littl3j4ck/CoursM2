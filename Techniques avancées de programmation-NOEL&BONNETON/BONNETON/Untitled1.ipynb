{
 "cells": [
  {
   "cell_type": "code",
   "execution_count": 1,
   "metadata": {},
   "outputs": [],
   "source": [
    "import numpy as np\n",
    "import pandas as pd\n",
    "import matplotlib.pyplot as plt\n",
    "import scipy.stats as stat"
   ]
  },
  {
   "cell_type": "code",
   "execution_count": 4,
   "metadata": {},
   "outputs": [],
   "source": [
    "#test de score de rappel\n",
    "data=pd.read_csv(\"score-1.csv\",header=None)"
   ]
  },
  {
   "cell_type": "code",
   "execution_count": 5,
   "metadata": {},
   "outputs": [
    {
     "data": {
      "text/html": [
       "<div>\n",
       "<style scoped>\n",
       "    .dataframe tbody tr th:only-of-type {\n",
       "        vertical-align: middle;\n",
       "    }\n",
       "\n",
       "    .dataframe tbody tr th {\n",
       "        vertical-align: top;\n",
       "    }\n",
       "\n",
       "    .dataframe thead th {\n",
       "        text-align: right;\n",
       "    }\n",
       "</style>\n",
       "<table border=\"1\" class=\"dataframe\">\n",
       "  <thead>\n",
       "    <tr style=\"text-align: right;\">\n",
       "      <th></th>\n",
       "      <th>0</th>\n",
       "    </tr>\n",
       "  </thead>\n",
       "  <tbody>\n",
       "    <tr>\n",
       "      <th>0</th>\n",
       "      <td>11</td>\n",
       "    </tr>\n",
       "    <tr>\n",
       "      <th>1</th>\n",
       "      <td>7</td>\n",
       "    </tr>\n",
       "    <tr>\n",
       "      <th>2</th>\n",
       "      <td>7</td>\n",
       "    </tr>\n",
       "    <tr>\n",
       "      <th>3</th>\n",
       "      <td>12</td>\n",
       "    </tr>\n",
       "    <tr>\n",
       "      <th>4</th>\n",
       "      <td>7</td>\n",
       "    </tr>\n",
       "    <tr>\n",
       "      <th>5</th>\n",
       "      <td>11</td>\n",
       "    </tr>\n",
       "    <tr>\n",
       "      <th>6</th>\n",
       "      <td>9</td>\n",
       "    </tr>\n",
       "    <tr>\n",
       "      <th>7</th>\n",
       "      <td>14</td>\n",
       "    </tr>\n",
       "    <tr>\n",
       "      <th>8</th>\n",
       "      <td>10</td>\n",
       "    </tr>\n",
       "    <tr>\n",
       "      <th>9</th>\n",
       "      <td>9</td>\n",
       "    </tr>\n",
       "    <tr>\n",
       "      <th>10</th>\n",
       "      <td>8</td>\n",
       "    </tr>\n",
       "    <tr>\n",
       "      <th>11</th>\n",
       "      <td>7</td>\n",
       "    </tr>\n",
       "    <tr>\n",
       "      <th>12</th>\n",
       "      <td>11</td>\n",
       "    </tr>\n",
       "    <tr>\n",
       "      <th>13</th>\n",
       "      <td>9</td>\n",
       "    </tr>\n",
       "    <tr>\n",
       "      <th>14</th>\n",
       "      <td>8</td>\n",
       "    </tr>\n",
       "    <tr>\n",
       "      <th>15</th>\n",
       "      <td>4</td>\n",
       "    </tr>\n",
       "    <tr>\n",
       "      <th>16</th>\n",
       "      <td>6</td>\n",
       "    </tr>\n",
       "    <tr>\n",
       "      <th>17</th>\n",
       "      <td>10</td>\n",
       "    </tr>\n",
       "    <tr>\n",
       "      <th>18</th>\n",
       "      <td>7</td>\n",
       "    </tr>\n",
       "    <tr>\n",
       "      <th>19</th>\n",
       "      <td>10</td>\n",
       "    </tr>\n",
       "    <tr>\n",
       "      <th>20</th>\n",
       "      <td>5</td>\n",
       "    </tr>\n",
       "    <tr>\n",
       "      <th>21</th>\n",
       "      <td>9</td>\n",
       "    </tr>\n",
       "    <tr>\n",
       "      <th>22</th>\n",
       "      <td>7</td>\n",
       "    </tr>\n",
       "    <tr>\n",
       "      <th>23</th>\n",
       "      <td>6</td>\n",
       "    </tr>\n",
       "    <tr>\n",
       "      <th>24</th>\n",
       "      <td>7</td>\n",
       "    </tr>\n",
       "    <tr>\n",
       "      <th>25</th>\n",
       "      <td>6</td>\n",
       "    </tr>\n",
       "    <tr>\n",
       "      <th>26</th>\n",
       "      <td>7</td>\n",
       "    </tr>\n",
       "    <tr>\n",
       "      <th>27</th>\n",
       "      <td>7</td>\n",
       "    </tr>\n",
       "    <tr>\n",
       "      <th>28</th>\n",
       "      <td>6</td>\n",
       "    </tr>\n",
       "    <tr>\n",
       "      <th>29</th>\n",
       "      <td>6</td>\n",
       "    </tr>\n",
       "    <tr>\n",
       "      <th>...</th>\n",
       "      <td>...</td>\n",
       "    </tr>\n",
       "    <tr>\n",
       "      <th>40</th>\n",
       "      <td>9</td>\n",
       "    </tr>\n",
       "    <tr>\n",
       "      <th>41</th>\n",
       "      <td>9</td>\n",
       "    </tr>\n",
       "    <tr>\n",
       "      <th>42</th>\n",
       "      <td>10</td>\n",
       "    </tr>\n",
       "    <tr>\n",
       "      <th>43</th>\n",
       "      <td>9</td>\n",
       "    </tr>\n",
       "    <tr>\n",
       "      <th>44</th>\n",
       "      <td>9</td>\n",
       "    </tr>\n",
       "    <tr>\n",
       "      <th>45</th>\n",
       "      <td>12</td>\n",
       "    </tr>\n",
       "    <tr>\n",
       "      <th>46</th>\n",
       "      <td>9</td>\n",
       "    </tr>\n",
       "    <tr>\n",
       "      <th>47</th>\n",
       "      <td>8</td>\n",
       "    </tr>\n",
       "    <tr>\n",
       "      <th>48</th>\n",
       "      <td>6</td>\n",
       "    </tr>\n",
       "    <tr>\n",
       "      <th>49</th>\n",
       "      <td>4</td>\n",
       "    </tr>\n",
       "    <tr>\n",
       "      <th>50</th>\n",
       "      <td>8</td>\n",
       "    </tr>\n",
       "    <tr>\n",
       "      <th>51</th>\n",
       "      <td>6</td>\n",
       "    </tr>\n",
       "    <tr>\n",
       "      <th>52</th>\n",
       "      <td>8</td>\n",
       "    </tr>\n",
       "    <tr>\n",
       "      <th>53</th>\n",
       "      <td>8</td>\n",
       "    </tr>\n",
       "    <tr>\n",
       "      <th>54</th>\n",
       "      <td>7</td>\n",
       "    </tr>\n",
       "    <tr>\n",
       "      <th>55</th>\n",
       "      <td>10</td>\n",
       "    </tr>\n",
       "    <tr>\n",
       "      <th>56</th>\n",
       "      <td>9</td>\n",
       "    </tr>\n",
       "    <tr>\n",
       "      <th>57</th>\n",
       "      <td>6</td>\n",
       "    </tr>\n",
       "    <tr>\n",
       "      <th>58</th>\n",
       "      <td>7</td>\n",
       "    </tr>\n",
       "    <tr>\n",
       "      <th>59</th>\n",
       "      <td>8</td>\n",
       "    </tr>\n",
       "    <tr>\n",
       "      <th>60</th>\n",
       "      <td>6</td>\n",
       "    </tr>\n",
       "    <tr>\n",
       "      <th>61</th>\n",
       "      <td>6</td>\n",
       "    </tr>\n",
       "    <tr>\n",
       "      <th>62</th>\n",
       "      <td>11</td>\n",
       "    </tr>\n",
       "    <tr>\n",
       "      <th>63</th>\n",
       "      <td>12</td>\n",
       "    </tr>\n",
       "    <tr>\n",
       "      <th>64</th>\n",
       "      <td>6</td>\n",
       "    </tr>\n",
       "    <tr>\n",
       "      <th>65</th>\n",
       "      <td>10</td>\n",
       "    </tr>\n",
       "    <tr>\n",
       "      <th>66</th>\n",
       "      <td>8</td>\n",
       "    </tr>\n",
       "    <tr>\n",
       "      <th>67</th>\n",
       "      <td>8</td>\n",
       "    </tr>\n",
       "    <tr>\n",
       "      <th>68</th>\n",
       "      <td>6</td>\n",
       "    </tr>\n",
       "    <tr>\n",
       "      <th>69</th>\n",
       "      <td>9</td>\n",
       "    </tr>\n",
       "  </tbody>\n",
       "</table>\n",
       "<p>70 rows × 1 columns</p>\n",
       "</div>"
      ],
      "text/plain": [
       "     0\n",
       "0   11\n",
       "1    7\n",
       "2    7\n",
       "3   12\n",
       "4    7\n",
       "5   11\n",
       "6    9\n",
       "7   14\n",
       "8   10\n",
       "9    9\n",
       "10   8\n",
       "11   7\n",
       "12  11\n",
       "13   9\n",
       "14   8\n",
       "15   4\n",
       "16   6\n",
       "17  10\n",
       "18   7\n",
       "19  10\n",
       "20   5\n",
       "21   9\n",
       "22   7\n",
       "23   6\n",
       "24   7\n",
       "25   6\n",
       "26   7\n",
       "27   7\n",
       "28   6\n",
       "29   6\n",
       "..  ..\n",
       "40   9\n",
       "41   9\n",
       "42  10\n",
       "43   9\n",
       "44   9\n",
       "45  12\n",
       "46   9\n",
       "47   8\n",
       "48   6\n",
       "49   4\n",
       "50   8\n",
       "51   6\n",
       "52   8\n",
       "53   8\n",
       "54   7\n",
       "55  10\n",
       "56   9\n",
       "57   6\n",
       "58   7\n",
       "59   8\n",
       "60   6\n",
       "61   6\n",
       "62  11\n",
       "63  12\n",
       "64   6\n",
       "65  10\n",
       "66   8\n",
       "67   8\n",
       "68   6\n",
       "69   9\n",
       "\n",
       "[70 rows x 1 columns]"
      ]
     },
     "execution_count": 5,
     "metadata": {},
     "output_type": "execute_result"
    }
   ],
   "source": [
    "data"
   ]
  },
  {
   "cell_type": "code",
   "execution_count": 6,
   "metadata": {},
   "outputs": [
    {
     "data": {
      "text/plain": [
       "[<matplotlib.lines.Line2D at 0x7feeb828f390>]"
      ]
     },
     "execution_count": 6,
     "metadata": {},
     "output_type": "execute_result"
    },
    {
     "data": {
      "image/png": "[encoded data removed]",
      "text/plain": [
       "<Figure size 432x288 with 1 Axes>"
      ]
     },
     "metadata": {
      "needs_background": "light"
     },
     "output_type": "display_data"
    }
   ],
   "source": [
    "plt.plot(data,'x')"
   ]
  },
  {
   "cell_type": "code",
   "execution_count": 7,
   "metadata": {},
   "outputs": [
    {
     "data": {
      "text/plain": [
       "DescribeResult(nobs=70, minmax=(array([4]), array([14])), mean=array([8.31428571]), variance=array([4.16066253]), skewness=array([0.23933309]), kurtosis=array([-0.26155924]))"
      ]
     },
     "execution_count": 7,
     "metadata": {},
     "output_type": "execute_result"
    }
   ],
   "source": [
    "stat.describe(data)"
   ]
  },
  {
   "cell_type": "code",
   "execution_count": 8,
   "metadata": {},
   "outputs": [
    {
     "data": {
      "text/plain": [
       "NormaltestResult(statistic=array([0.80698531]), pvalue=array([0.66798293]))"
      ]
     },
     "execution_count": 8,
     "metadata": {},
     "output_type": "execute_result"
    }
   ],
   "source": [
    "stat.normaltest(data)"
   ]
  },
  {
   "cell_type": "code",
   "execution_count": 9,
   "metadata": {},
   "outputs": [
    {
     "data": {
      "text/plain": [
       "Ttest_1sampResult(statistic=array([5.3908539]), pvalue=array([9.2290647e-07]))"
      ]
     },
     "execution_count": 9,
     "metadata": {},
     "output_type": "execute_result"
    }
   ],
   "source": [
    "stat.ttest_1samp(data,popmean=7)"
   ]
  },
  {
   "cell_type": "code",
   "execution_count": 13,
   "metadata": {},
   "outputs": [],
   "source": [
    "#TEST DE CONNAISSANCES GENERALES DANS uNE REGION\n",
    "#score classique niveau national 310pts\n",
    "data2=pd.read_csv(\"score-2.csv\",header=None)"
   ]
  },
  {
   "cell_type": "code",
   "execution_count": 14,
   "metadata": {},
   "outputs": [
    {
     "data": {
      "text/html": [
       "<div>\n",
       "<style scoped>\n",
       "    .dataframe tbody tr th:only-of-type {\n",
       "        vertical-align: middle;\n",
       "    }\n",
       "\n",
       "    .dataframe tbody tr th {\n",
       "        vertical-align: top;\n",
       "    }\n",
       "\n",
       "    .dataframe thead th {\n",
       "        text-align: right;\n",
       "    }\n",
       "</style>\n",
       "<table border=\"1\" class=\"dataframe\">\n",
       "  <thead>\n",
       "    <tr style=\"text-align: right;\">\n",
       "      <th></th>\n",
       "      <th>309</th>\n",
       "    </tr>\n",
       "  </thead>\n",
       "  <tbody>\n",
       "    <tr>\n",
       "      <th>0</th>\n",
       "      <td>261</td>\n",
       "    </tr>\n",
       "    <tr>\n",
       "      <th>1</th>\n",
       "      <td>173</td>\n",
       "    </tr>\n",
       "    <tr>\n",
       "      <th>2</th>\n",
       "      <td>280</td>\n",
       "    </tr>\n",
       "    <tr>\n",
       "      <th>3</th>\n",
       "      <td>198</td>\n",
       "    </tr>\n",
       "    <tr>\n",
       "      <th>4</th>\n",
       "      <td>205</td>\n",
       "    </tr>\n",
       "    <tr>\n",
       "      <th>5</th>\n",
       "      <td>398</td>\n",
       "    </tr>\n",
       "    <tr>\n",
       "      <th>6</th>\n",
       "      <td>122</td>\n",
       "    </tr>\n",
       "    <tr>\n",
       "      <th>7</th>\n",
       "      <td>269</td>\n",
       "    </tr>\n",
       "    <tr>\n",
       "      <th>8</th>\n",
       "      <td>211</td>\n",
       "    </tr>\n",
       "    <tr>\n",
       "      <th>9</th>\n",
       "      <td>183</td>\n",
       "    </tr>\n",
       "    <tr>\n",
       "      <th>10</th>\n",
       "      <td>60</td>\n",
       "    </tr>\n",
       "    <tr>\n",
       "      <th>11</th>\n",
       "      <td>59</td>\n",
       "    </tr>\n",
       "    <tr>\n",
       "      <th>12</th>\n",
       "      <td>282</td>\n",
       "    </tr>\n",
       "    <tr>\n",
       "      <th>13</th>\n",
       "      <td>263</td>\n",
       "    </tr>\n",
       "    <tr>\n",
       "      <th>14</th>\n",
       "      <td>340</td>\n",
       "    </tr>\n",
       "    <tr>\n",
       "      <th>15</th>\n",
       "      <td>333</td>\n",
       "    </tr>\n",
       "    <tr>\n",
       "      <th>16</th>\n",
       "      <td>531</td>\n",
       "    </tr>\n",
       "    <tr>\n",
       "      <th>17</th>\n",
       "      <td>314</td>\n",
       "    </tr>\n",
       "    <tr>\n",
       "      <th>18</th>\n",
       "      <td>413</td>\n",
       "    </tr>\n",
       "    <tr>\n",
       "      <th>19</th>\n",
       "      <td>382</td>\n",
       "    </tr>\n",
       "    <tr>\n",
       "      <th>20</th>\n",
       "      <td>377</td>\n",
       "    </tr>\n",
       "    <tr>\n",
       "      <th>21</th>\n",
       "      <td>251</td>\n",
       "    </tr>\n",
       "    <tr>\n",
       "      <th>22</th>\n",
       "      <td>262</td>\n",
       "    </tr>\n",
       "    <tr>\n",
       "      <th>23</th>\n",
       "      <td>415</td>\n",
       "    </tr>\n",
       "    <tr>\n",
       "      <th>24</th>\n",
       "      <td>450</td>\n",
       "    </tr>\n",
       "    <tr>\n",
       "      <th>25</th>\n",
       "      <td>270</td>\n",
       "    </tr>\n",
       "    <tr>\n",
       "      <th>26</th>\n",
       "      <td>351</td>\n",
       "    </tr>\n",
       "    <tr>\n",
       "      <th>27</th>\n",
       "      <td>309</td>\n",
       "    </tr>\n",
       "    <tr>\n",
       "      <th>28</th>\n",
       "      <td>198</td>\n",
       "    </tr>\n",
       "    <tr>\n",
       "      <th>29</th>\n",
       "      <td>399</td>\n",
       "    </tr>\n",
       "    <tr>\n",
       "      <th>...</th>\n",
       "      <td>...</td>\n",
       "    </tr>\n",
       "    <tr>\n",
       "      <th>192</th>\n",
       "      <td>395</td>\n",
       "    </tr>\n",
       "    <tr>\n",
       "      <th>193</th>\n",
       "      <td>296</td>\n",
       "    </tr>\n",
       "    <tr>\n",
       "      <th>194</th>\n",
       "      <td>240</td>\n",
       "    </tr>\n",
       "    <tr>\n",
       "      <th>195</th>\n",
       "      <td>245</td>\n",
       "    </tr>\n",
       "    <tr>\n",
       "      <th>196</th>\n",
       "      <td>361</td>\n",
       "    </tr>\n",
       "    <tr>\n",
       "      <th>197</th>\n",
       "      <td>324</td>\n",
       "    </tr>\n",
       "    <tr>\n",
       "      <th>198</th>\n",
       "      <td>387</td>\n",
       "    </tr>\n",
       "    <tr>\n",
       "      <th>199</th>\n",
       "      <td>284</td>\n",
       "    </tr>\n",
       "    <tr>\n",
       "      <th>200</th>\n",
       "      <td>461</td>\n",
       "    </tr>\n",
       "    <tr>\n",
       "      <th>201</th>\n",
       "      <td>281</td>\n",
       "    </tr>\n",
       "    <tr>\n",
       "      <th>202</th>\n",
       "      <td>512</td>\n",
       "    </tr>\n",
       "    <tr>\n",
       "      <th>203</th>\n",
       "      <td>499</td>\n",
       "    </tr>\n",
       "    <tr>\n",
       "      <th>204</th>\n",
       "      <td>189</td>\n",
       "    </tr>\n",
       "    <tr>\n",
       "      <th>205</th>\n",
       "      <td>412</td>\n",
       "    </tr>\n",
       "    <tr>\n",
       "      <th>206</th>\n",
       "      <td>216</td>\n",
       "    </tr>\n",
       "    <tr>\n",
       "      <th>207</th>\n",
       "      <td>139</td>\n",
       "    </tr>\n",
       "    <tr>\n",
       "      <th>208</th>\n",
       "      <td>230</td>\n",
       "    </tr>\n",
       "    <tr>\n",
       "      <th>209</th>\n",
       "      <td>120</td>\n",
       "    </tr>\n",
       "    <tr>\n",
       "      <th>210</th>\n",
       "      <td>302</td>\n",
       "    </tr>\n",
       "    <tr>\n",
       "      <th>211</th>\n",
       "      <td>494</td>\n",
       "    </tr>\n",
       "    <tr>\n",
       "      <th>212</th>\n",
       "      <td>187</td>\n",
       "    </tr>\n",
       "    <tr>\n",
       "      <th>213</th>\n",
       "      <td>309</td>\n",
       "    </tr>\n",
       "    <tr>\n",
       "      <th>214</th>\n",
       "      <td>351</td>\n",
       "    </tr>\n",
       "    <tr>\n",
       "      <th>215</th>\n",
       "      <td>345</td>\n",
       "    </tr>\n",
       "    <tr>\n",
       "      <th>216</th>\n",
       "      <td>422</td>\n",
       "    </tr>\n",
       "    <tr>\n",
       "      <th>217</th>\n",
       "      <td>185</td>\n",
       "    </tr>\n",
       "    <tr>\n",
       "      <th>218</th>\n",
       "      <td>409</td>\n",
       "    </tr>\n",
       "    <tr>\n",
       "      <th>219</th>\n",
       "      <td>185</td>\n",
       "    </tr>\n",
       "    <tr>\n",
       "      <th>220</th>\n",
       "      <td>246</td>\n",
       "    </tr>\n",
       "    <tr>\n",
       "      <th>221</th>\n",
       "      <td>326</td>\n",
       "    </tr>\n",
       "  </tbody>\n",
       "</table>\n",
       "<p>222 rows × 1 columns</p>\n",
       "</div>"
      ],
      "text/plain": [
       "     309\n",
       "0    261\n",
       "1    173\n",
       "2    280\n",
       "3    198\n",
       "4    205\n",
       "5    398\n",
       "6    122\n",
       "7    269\n",
       "8    211\n",
       "9    183\n",
       "10    60\n",
       "11    59\n",
       "12   282\n",
       "13   263\n",
       "14   340\n",
       "15   333\n",
       "16   531\n",
       "17   314\n",
       "18   413\n",
       "19   382\n",
       "20   377\n",
       "21   251\n",
       "22   262\n",
       "23   415\n",
       "24   450\n",
       "25   270\n",
       "26   351\n",
       "27   309\n",
       "28   198\n",
       "29   399\n",
       "..   ...\n",
       "192  395\n",
       "193  296\n",
       "194  240\n",
       "195  245\n",
       "196  361\n",
       "197  324\n",
       "198  387\n",
       "199  284\n",
       "200  461\n",
       "201  281\n",
       "202  512\n",
       "203  499\n",
       "204  189\n",
       "205  412\n",
       "206  216\n",
       "207  139\n",
       "208  230\n",
       "209  120\n",
       "210  302\n",
       "211  494\n",
       "212  187\n",
       "213  309\n",
       "214  351\n",
       "215  345\n",
       "216  422\n",
       "217  185\n",
       "218  409\n",
       "219  185\n",
       "220  246\n",
       "221  326\n",
       "\n",
       "[222 rows x 1 columns]"
      ]
     },
     "execution_count": 14,
     "metadata": {},
     "output_type": "execute_result"
    }
   ],
   "source": [
    "data2"
   ]
  },
  {
   "cell_type": "code",
   "execution_count": 15,
   "metadata": {},
   "outputs": [
    {
     "data": {
      "text/plain": [
       "DescribeResult(nobs=222, minmax=(array([59]), array([595])), mean=array([298.92342342]), variance=array([11731.39229954]), skewness=array([0.08171589]), kurtosis=array([-0.54196731]))"
      ]
     },
     "execution_count": 15,
     "metadata": {},
     "output_type": "execute_result"
    }
   ],
   "source": [
    "stat.describe(data2)"
   ]
  },
  {
   "cell_type": "code",
   "execution_count": 16,
   "metadata": {},
   "outputs": [
    {
     "data": {
      "text/plain": [
       "NormaltestResult(statistic=array([4.60142478]), pvalue=array([0.10018745]))"
      ]
     },
     "execution_count": 16,
     "metadata": {},
     "output_type": "execute_result"
    }
   ],
   "source": [
    "stat.normaltest(data2)"
   ]
  },
  {
   "cell_type": "code",
   "execution_count": 17,
   "metadata": {},
   "outputs": [
    {
     "data": {
      "text/plain": [
       "Ttest_1sampResult(statistic=array([-1.52372735]), pvalue=array([0.1290065]))"
      ]
     },
     "execution_count": 17,
     "metadata": {},
     "output_type": "execute_result"
    }
   ],
   "source": [
    "stat.ttest_1samp(data2,popmean=310)\n",
    "#la pvalue est au dessus de 0.05, donc la différence est quasi nul."
   ]
  },
  {
   "cell_type": "code",
   "execution_count": 19,
   "metadata": {},
   "outputs": [
    {
     "data": {
      "text/plain": [
       "309    108.067332\n",
       "dtype: float64"
      ]
     },
     "execution_count": 19,
     "metadata": {},
     "output_type": "execute_result"
    }
   ],
   "source": [
    "np.std(data2)"
   ]
  },
  {
   "cell_type": "code",
   "execution_count": null,
   "metadata": {},
   "outputs": [],
   "source": [
    "# etude du temps de réaction verbales sur des mots (g1) et sur des dessins(g2)"
   ]
  },
  {
   "cell_type": "code",
   "execution_count": 24,
   "metadata": {},
   "outputs": [],
   "source": [
    "data3=pd.read_csv(\"score-3.csv\",sep=';')"
   ]
  },
  {
   "cell_type": "code",
   "execution_count": 33,
   "metadata": {},
   "outputs": [],
   "source": [
    "groupe1=data3['GROUPE1']\n",
    "groupe2=data3['GROUPE2']\n",
    "groupe2=groupe2.dropna()"
   ]
  },
  {
   "cell_type": "code",
   "execution_count": 36,
   "metadata": {},
   "outputs": [
    {
     "data": {
      "text/plain": [
       "DescribeResult(nobs=52, minmax=(350, 607), mean=470.1923076923077, variance=2795.5309200603315, skewness=0.26333810236014654, kurtosis=0.1257823599152892)"
      ]
     },
     "execution_count": 36,
     "metadata": {},
     "output_type": "execute_result"
    }
   ],
   "source": [
    "stat.describe(groupe1)"
   ]
  },
  {
   "cell_type": "code",
   "execution_count": 37,
   "metadata": {},
   "outputs": [
    {
     "data": {
      "text/plain": [
       "DescribeResult(nobs=42, minmax=(400.0, 705.0), mean=553.4285714285714, variance=4515.811846689895, skewness=0.1067941037919635, kurtosis=-0.18942027097352465)"
      ]
     },
     "execution_count": 37,
     "metadata": {},
     "output_type": "execute_result"
    }
   ],
   "source": [
    "stat.describe(groupe2)"
   ]
  },
  {
   "cell_type": "code",
   "execution_count": 38,
   "metadata": {},
   "outputs": [
    {
     "data": {
      "text/plain": [
       "NormaltestResult(statistic=1.106035439041655, pvalue=0.5752113620691502)"
      ]
     },
     "execution_count": 38,
     "metadata": {},
     "output_type": "execute_result"
    }
   ],
   "source": [
    "stat.normaltest(groupe1)"
   ]
  },
  {
   "cell_type": "code",
   "execution_count": 39,
   "metadata": {},
   "outputs": [
    {
     "data": {
      "text/plain": [
       "NormaltestResult(statistic=0.12096308196101899, pvalue=0.9413111445388013)"
      ]
     },
     "execution_count": 39,
     "metadata": {},
     "output_type": "execute_result"
    }
   ],
   "source": [
    "stat.normaltest(groupe2)"
   ]
  },
  {
   "cell_type": "code",
   "execution_count": 40,
   "metadata": {},
   "outputs": [
    {
     "data": {
      "text/plain": [
       "{'whiskers': [<matplotlib.lines.Line2D at 0x7feeb7f6cb70>,\n",
       "  <matplotlib.lines.Line2D at 0x7feeb7f6cf98>,\n",
       "  <matplotlib.lines.Line2D at 0x7feeb7f7e978>,\n",
       "  <matplotlib.lines.Line2D at 0x7feeb7f7eda0>],\n",
       " 'caps': [<matplotlib.lines.Line2D at 0x7feeb7f73400>,\n",
       "  <matplotlib.lines.Line2D at 0x7feeb7f73828>,\n",
       "  <matplotlib.lines.Line2D at 0x7feeb7f7ee80>,\n",
       "  <matplotlib.lines.Line2D at 0x7feeb7f84630>],\n",
       " 'boxes': [<matplotlib.lines.Line2D at 0x7feeb7f6c5f8>,\n",
       "  <matplotlib.lines.Line2D at 0x7feeb7f7e550>],\n",
       " 'medians': [<matplotlib.lines.Line2D at 0x7feeb7f73c50>,\n",
       "  <matplotlib.lines.Line2D at 0x7feeb7f84a58>],\n",
       " 'fliers': [<matplotlib.lines.Line2D at 0x7feeb7f73d30>,\n",
       "  <matplotlib.lines.Line2D at 0x7feeb7f84e80>],\n",
       " 'means': []}"
      ]
     },
     "execution_count": 40,
     "metadata": {},
     "output_type": "execute_result"
    },
    {
     "data": {
      "image/png": "[encoded data removed]",
      "text/plain": [
       "<Figure size 432x288 with 1 Axes>"
      ]
     },
     "metadata": {
      "needs_background": "light"
     },
     "output_type": "display_data"
    }
   ],
   "source": [
    "fig1,ax1 = plt.subplots()\n",
    "ax1.set_title('deux groupes independants distributions normales')\n",
    "groupe=[groupe1,groupe2]\n",
    "ax1.boxplot(groupe,vert=False,labels=[\"groupe1\",\"groupe2\"])"
   ]
  },
  {
   "cell_type": "code",
   "execution_count": 41,
   "metadata": {},
   "outputs": [
    {
     "data": {
      "text/plain": [
       "LeveneResult(statistic=2.753846715433797, pvalue=0.1004260015605879)"
      ]
     },
     "execution_count": 41,
     "metadata": {},
     "output_type": "execute_result"
    }
   ],
   "source": [
    "stat.levene(groupe1,groupe2)"
   ]
  },
  {
   "cell_type": "code",
   "execution_count": 42,
   "metadata": {},
   "outputs": [
    {
     "data": {
      "text/plain": [
       "Ttest_indResult(statistic=-6.722288824999851, pvalue=1.4742908481755305e-09)"
      ]
     },
     "execution_count": 42,
     "metadata": {},
     "output_type": "execute_result"
    }
   ],
   "source": [
    "stat.ttest_ind(groupe1,groupe2)\n",
    "#la pvalue est une différence négative (le groupe1 est inferieur au groupe2. Donc le temps d'interprétation \n",
    "#d'un mot est plus court que celui du dessin )"
   ]
  },
  {
   "cell_type": "code",
   "execution_count": 43,
   "metadata": {},
   "outputs": [],
   "source": [
    "# améloriation d'un score de concentration\n",
    "data4=pd.read_csv(\"score-4.csv\",sep=\";\")"
   ]
  },
  {
   "cell_type": "code",
   "execution_count": 45,
   "metadata": {},
   "outputs": [],
   "source": [
    "avant=data4['AVANT']\n",
    "apres=data4['APRES']"
   ]
  },
  {
   "cell_type": "code",
   "execution_count": 46,
   "metadata": {},
   "outputs": [
    {
     "data": {
      "text/plain": [
       "DescribeResult(nobs=21, minmax=(6, 18), mean=11.19047619047619, variance=10.16190476190476, skewness=0.43924546468998343, kurtosis=-0.33589389093789856)"
      ]
     },
     "execution_count": 46,
     "metadata": {},
     "output_type": "execute_result"
    }
   ],
   "source": [
    "stat.describe(avant)"
   ]
  },
  {
   "cell_type": "code",
   "execution_count": 47,
   "metadata": {},
   "outputs": [
    {
     "data": {
      "text/plain": [
       "DescribeResult(nobs=21, minmax=(7, 17), mean=11.857142857142858, variance=8.12857142857143, skewness=0.13427036241604967, kurtosis=-0.7896797328893848)"
      ]
     },
     "execution_count": 47,
     "metadata": {},
     "output_type": "execute_result"
    }
   ],
   "source": [
    "stat.describe(apres)"
   ]
  },
  {
   "cell_type": "code",
   "execution_count": 48,
   "metadata": {},
   "outputs": [
    {
     "data": {
      "text/plain": [
       "NormaltestResult(statistic=0.9915166816898752, pvalue=0.6091088200113967)"
      ]
     },
     "execution_count": 48,
     "metadata": {},
     "output_type": "execute_result"
    }
   ],
   "source": [
    "stat.normaltest(avant)"
   ]
  },
  {
   "cell_type": "code",
   "execution_count": 49,
   "metadata": {},
   "outputs": [
    {
     "data": {
      "text/plain": [
       "NormaltestResult(statistic=0.5444354056013817, pvalue=0.7616884213360244)"
      ]
     },
     "execution_count": 49,
     "metadata": {},
     "output_type": "execute_result"
    }
   ],
   "source": [
    "stat.normaltest(apres)"
   ]
  },
  {
   "cell_type": "code",
   "execution_count": 50,
   "metadata": {},
   "outputs": [
    {
     "data": {
      "text/plain": [
       "Ttest_relResult(statistic=-0.6645602896268298, pvalue=0.513921876314335)"
      ]
     },
     "execution_count": 50,
     "metadata": {},
     "output_type": "execute_result"
    }
   ],
   "source": [
    "stat.ttest_rel(avant,apres)\n",
    "#pas beaucoup de différence (on est au dessus de 0.05)"
   ]
  },
  {
   "cell_type": "code",
   "execution_count": 53,
   "metadata": {},
   "outputs": [
    {
     "data": {
      "text/plain": [
       "{'whiskers': [<matplotlib.lines.Line2D at 0x7feeb7ebc860>,\n",
       "  <matplotlib.lines.Line2D at 0x7feeb7ebcc88>,\n",
       "  <matplotlib.lines.Line2D at 0x7feeb7ece5f8>,\n",
       "  <matplotlib.lines.Line2D at 0x7feeb7ecea20>],\n",
       " 'caps': [<matplotlib.lines.Line2D at 0x7feeb7ebcd68>,\n",
       "  <matplotlib.lines.Line2D at 0x7feeb7ec4518>,\n",
       "  <matplotlib.lines.Line2D at 0x7feeb7ecee48>,\n",
       "  <matplotlib.lines.Line2D at 0x7feeb7ecef28>],\n",
       " 'boxes': [<matplotlib.lines.Line2D at 0x7feeb7ebc320>,\n",
       "  <matplotlib.lines.Line2D at 0x7feeb7ec4e10>],\n",
       " 'medians': [<matplotlib.lines.Line2D at 0x7feeb7ec4940>,\n",
       "  <matplotlib.lines.Line2D at 0x7feeb7ed56d8>],\n",
       " 'fliers': [<matplotlib.lines.Line2D at 0x7feeb7ec4d68>,\n",
       "  <matplotlib.lines.Line2D at 0x7feeb7ed5b00>],\n",
       " 'means': []}"
      ]
     },
     "execution_count": 53,
     "metadata": {},
     "output_type": "execute_result"
    },
    {
     "data": {
      "image/png": "[encoded data removed]",
      "text/plain": [
       "<Figure size 432x288 with 1 Axes>"
      ]
     },
     "metadata": {
      "needs_background": "light"
     },
     "output_type": "display_data"
    }
   ],
   "source": [
    "fig2,ax2 = plt.subplots()\n",
    "groupe=[avant,apres]\n",
    "ax2.boxplot(groupe,vert=False,labels=[\"avant\",\"apres\"])"
   ]
  },
  {
   "cell_type": "code",
   "execution_count": 54,
   "metadata": {},
   "outputs": [
    {
     "data": {
      "text/plain": [
       "DescribeResult(nobs=21, minmax=(-8, 5), mean=-0.6666666666666666, variance=21.133333333333333, skewness=-0.22911150443858147, kurtosis=-1.409990148175422)"
      ]
     },
     "execution_count": 54,
     "metadata": {},
     "output_type": "execute_result"
    }
   ],
   "source": [
    "d=avant-apres\n",
    "stat.describe(d)"
   ]
  },
  {
   "cell_type": "code",
   "execution_count": 58,
   "metadata": {},
   "outputs": [
    {
     "data": {
      "text/plain": [
       "Ttest_1sampResult(statistic=-0.6645602896268298, pvalue=0.513921876314335)"
      ]
     },
     "execution_count": 58,
     "metadata": {},
     "output_type": "execute_result"
    }
   ],
   "source": [
    "stat.ttest_1samp(d,popmean=0)"
   ]
  },
  {
   "cell_type": "code",
   "execution_count": 60,
   "metadata": {},
   "outputs": [],
   "source": [
    "#la familiarié des mots facilite t'elle leur apprentisage ?\n",
    "#F1 1/1 000 000\n",
    "#F2 10 /1 000 000\n",
    "#F3 30 /1 000 000\n",
    "#F4 100/1 000 000\n",
    "data5=pd.read_csv(\"score-5.csv\",sep=\";\")"
   ]
  },
  {
   "cell_type": "code",
   "execution_count": 61,
   "metadata": {},
   "outputs": [
    {
     "data": {
      "text/html": [
       "<div>\n",
       "<style scoped>\n",
       "    .dataframe tbody tr th:only-of-type {\n",
       "        vertical-align: middle;\n",
       "    }\n",
       "\n",
       "    .dataframe tbody tr th {\n",
       "        vertical-align: top;\n",
       "    }\n",
       "\n",
       "    .dataframe thead th {\n",
       "        text-align: right;\n",
       "    }\n",
       "</style>\n",
       "<table border=\"1\" class=\"dataframe\">\n",
       "  <thead>\n",
       "    <tr style=\"text-align: right;\">\n",
       "      <th></th>\n",
       "      <th>F1</th>\n",
       "      <th>F2</th>\n",
       "      <th>F3</th>\n",
       "      <th>F4</th>\n",
       "    </tr>\n",
       "  </thead>\n",
       "  <tbody>\n",
       "    <tr>\n",
       "      <th>0</th>\n",
       "      <td>13.0</td>\n",
       "      <td>12.0</td>\n",
       "      <td>15.0</td>\n",
       "      <td>16</td>\n",
       "    </tr>\n",
       "    <tr>\n",
       "      <th>1</th>\n",
       "      <td>12.0</td>\n",
       "      <td>13.0</td>\n",
       "      <td>16.0</td>\n",
       "      <td>15</td>\n",
       "    </tr>\n",
       "    <tr>\n",
       "      <th>2</th>\n",
       "      <td>11.0</td>\n",
       "      <td>14.0</td>\n",
       "      <td>12.0</td>\n",
       "      <td>16</td>\n",
       "    </tr>\n",
       "    <tr>\n",
       "      <th>3</th>\n",
       "      <td>10.0</td>\n",
       "      <td>13.0</td>\n",
       "      <td>18.0</td>\n",
       "      <td>14</td>\n",
       "    </tr>\n",
       "    <tr>\n",
       "      <th>4</th>\n",
       "      <td>12.0</td>\n",
       "      <td>16.0</td>\n",
       "      <td>14.0</td>\n",
       "      <td>17</td>\n",
       "    </tr>\n",
       "    <tr>\n",
       "      <th>5</th>\n",
       "      <td>13.0</td>\n",
       "      <td>12.0</td>\n",
       "      <td>15.0</td>\n",
       "      <td>18</td>\n",
       "    </tr>\n",
       "    <tr>\n",
       "      <th>6</th>\n",
       "      <td>15.0</td>\n",
       "      <td>13.0</td>\n",
       "      <td>12.0</td>\n",
       "      <td>12</td>\n",
       "    </tr>\n",
       "    <tr>\n",
       "      <th>7</th>\n",
       "      <td>8.0</td>\n",
       "      <td>14.0</td>\n",
       "      <td>13.0</td>\n",
       "      <td>13</td>\n",
       "    </tr>\n",
       "    <tr>\n",
       "      <th>8</th>\n",
       "      <td>12.0</td>\n",
       "      <td>12.0</td>\n",
       "      <td>18.0</td>\n",
       "      <td>10</td>\n",
       "    </tr>\n",
       "    <tr>\n",
       "      <th>9</th>\n",
       "      <td>11.0</td>\n",
       "      <td>16.0</td>\n",
       "      <td>18.0</td>\n",
       "      <td>11</td>\n",
       "    </tr>\n",
       "    <tr>\n",
       "      <th>10</th>\n",
       "      <td>14.0</td>\n",
       "      <td>10.0</td>\n",
       "      <td>16.0</td>\n",
       "      <td>15</td>\n",
       "    </tr>\n",
       "    <tr>\n",
       "      <th>11</th>\n",
       "      <td>12.0</td>\n",
       "      <td>17.0</td>\n",
       "      <td>14.0</td>\n",
       "      <td>15</td>\n",
       "    </tr>\n",
       "    <tr>\n",
       "      <th>12</th>\n",
       "      <td>12.0</td>\n",
       "      <td>11.0</td>\n",
       "      <td>14.0</td>\n",
       "      <td>17</td>\n",
       "    </tr>\n",
       "    <tr>\n",
       "      <th>13</th>\n",
       "      <td>14.0</td>\n",
       "      <td>13.0</td>\n",
       "      <td>13.0</td>\n",
       "      <td>16</td>\n",
       "    </tr>\n",
       "    <tr>\n",
       "      <th>14</th>\n",
       "      <td>13.0</td>\n",
       "      <td>14.0</td>\n",
       "      <td>17.0</td>\n",
       "      <td>15</td>\n",
       "    </tr>\n",
       "    <tr>\n",
       "      <th>15</th>\n",
       "      <td>11.0</td>\n",
       "      <td>NaN</td>\n",
       "      <td>16.0</td>\n",
       "      <td>16</td>\n",
       "    </tr>\n",
       "    <tr>\n",
       "      <th>16</th>\n",
       "      <td>12.0</td>\n",
       "      <td>NaN</td>\n",
       "      <td>14.0</td>\n",
       "      <td>14</td>\n",
       "    </tr>\n",
       "    <tr>\n",
       "      <th>17</th>\n",
       "      <td>12.0</td>\n",
       "      <td>NaN</td>\n",
       "      <td>15.0</td>\n",
       "      <td>18</td>\n",
       "    </tr>\n",
       "    <tr>\n",
       "      <th>18</th>\n",
       "      <td>NaN</td>\n",
       "      <td>NaN</td>\n",
       "      <td>NaN</td>\n",
       "      <td>18</td>\n",
       "    </tr>\n",
       "    <tr>\n",
       "      <th>19</th>\n",
       "      <td>NaN</td>\n",
       "      <td>NaN</td>\n",
       "      <td>NaN</td>\n",
       "      <td>15</td>\n",
       "    </tr>\n",
       "  </tbody>\n",
       "</table>\n",
       "</div>"
      ],
      "text/plain": [
       "      F1    F2    F3  F4\n",
       "0   13.0  12.0  15.0  16\n",
       "1   12.0  13.0  16.0  15\n",
       "2   11.0  14.0  12.0  16\n",
       "3   10.0  13.0  18.0  14\n",
       "4   12.0  16.0  14.0  17\n",
       "5   13.0  12.0  15.0  18\n",
       "6   15.0  13.0  12.0  12\n",
       "7    8.0  14.0  13.0  13\n",
       "8   12.0  12.0  18.0  10\n",
       "9   11.0  16.0  18.0  11\n",
       "10  14.0  10.0  16.0  15\n",
       "11  12.0  17.0  14.0  15\n",
       "12  12.0  11.0  14.0  17\n",
       "13  14.0  13.0  13.0  16\n",
       "14  13.0  14.0  17.0  15\n",
       "15  11.0   NaN  16.0  16\n",
       "16  12.0   NaN  14.0  14\n",
       "17  12.0   NaN  15.0  18\n",
       "18   NaN   NaN   NaN  18\n",
       "19   NaN   NaN   NaN  15"
      ]
     },
     "execution_count": 61,
     "metadata": {},
     "output_type": "execute_result"
    }
   ],
   "source": [
    "data5"
   ]
  },
  {
   "cell_type": "code",
   "execution_count": 62,
   "metadata": {},
   "outputs": [],
   "source": [
    "F1=data5['F1'].dropna()\n",
    "F2=data5['F2'].dropna()\n",
    "F3=data5['F3'].dropna()\n",
    "F4=data5['F4'].dropna()\n"
   ]
  },
  {
   "cell_type": "code",
   "execution_count": 65,
   "metadata": {},
   "outputs": [
    {
     "data": {
      "text/plain": [
       "(0.932805061340332, 0.2174895703792572)"
      ]
     },
     "execution_count": 65,
     "metadata": {},
     "output_type": "execute_result"
    }
   ],
   "source": [
    "stat.shapiro(F1)"
   ]
  },
  {
   "cell_type": "code",
   "execution_count": 64,
   "metadata": {},
   "outputs": [
    {
     "data": {
      "text/plain": [
       "(0.9518586993217468, 0.5541887283325195)"
      ]
     },
     "execution_count": 64,
     "metadata": {},
     "output_type": "execute_result"
    }
   ],
   "source": [
    "stat.shapiro(F2)"
   ]
  },
  {
   "cell_type": "code",
   "execution_count": 66,
   "metadata": {},
   "outputs": [
    {
     "data": {
      "text/plain": [
       "(0.9369635581970215, 0.25693386793136597)"
      ]
     },
     "execution_count": 66,
     "metadata": {},
     "output_type": "execute_result"
    }
   ],
   "source": [
    "stat.shapiro(F3)"
   ]
  },
  {
   "cell_type": "code",
   "execution_count": 67,
   "metadata": {},
   "outputs": [
    {
     "data": {
      "text/plain": [
       "(0.9295049905776978, 0.15106524527072906)"
      ]
     },
     "execution_count": 67,
     "metadata": {},
     "output_type": "execute_result"
    }
   ],
   "source": [
    "stat.shapiro(F4)"
   ]
  },
  {
   "cell_type": "code",
   "execution_count": 68,
   "metadata": {},
   "outputs": [
    {
     "data": {
      "text/plain": [
       "DescribeResult(nobs=18, minmax=(8.0, 15.0), mean=12.055555555555555, variance=2.526143790849673, skewness=-0.5451426012178421, kurtosis=0.8869025603778233)"
      ]
     },
     "execution_count": 68,
     "metadata": {},
     "output_type": "execute_result"
    }
   ],
   "source": [
    "stat.describe(F1)"
   ]
  },
  {
   "cell_type": "code",
   "execution_count": 69,
   "metadata": {},
   "outputs": [
    {
     "data": {
      "text/plain": [
       "DescribeResult(nobs=15, minmax=(10.0, 17.0), mean=13.333333333333334, variance=3.666666666666667, skewness=0.3276136227983841, kurtosis=-0.46626749873503215)"
      ]
     },
     "execution_count": 69,
     "metadata": {},
     "output_type": "execute_result"
    }
   ],
   "source": [
    "stat.describe(F2)"
   ]
  },
  {
   "cell_type": "code",
   "execution_count": 70,
   "metadata": {},
   "outputs": [
    {
     "data": {
      "text/plain": [
       "DescribeResult(nobs=18, minmax=(12.0, 18.0), mean=15.0, variance=3.764705882352941, skewness=0.14915533665653738, kurtosis=-0.9785156249999996)"
      ]
     },
     "execution_count": 70,
     "metadata": {},
     "output_type": "execute_result"
    }
   ],
   "source": [
    "stat.describe(F3)"
   ]
  },
  {
   "cell_type": "code",
   "execution_count": 71,
   "metadata": {},
   "outputs": [
    {
     "data": {
      "text/plain": [
       "DescribeResult(nobs=20, minmax=(10, 18), mean=15.05, variance=4.997368421052632, skewness=-0.6730574778300288, kurtosis=-0.14841269247055244)"
      ]
     },
     "execution_count": 71,
     "metadata": {},
     "output_type": "execute_result"
    }
   ],
   "source": [
    "stat.describe(F4)"
   ]
  },
  {
   "cell_type": "code",
   "execution_count": 72,
   "metadata": {},
   "outputs": [
    {
     "data": {
      "text/plain": [
       "LeveneResult(statistic=0.7860680987649648, pvalue=0.5058885742270761)"
      ]
     },
     "execution_count": 72,
     "metadata": {},
     "output_type": "execute_result"
    }
   ],
   "source": [
    "stat.levene(F1,F2,F3,F4)"
   ]
  },
  {
   "cell_type": "code",
   "execution_count": 73,
   "metadata": {},
   "outputs": [
    {
     "data": {
      "text/plain": [
       "F_onewayResult(statistic=10.077576698057928, pvalue=1.449614037501544e-05)"
      ]
     },
     "execution_count": 73,
     "metadata": {},
     "output_type": "execute_result"
    }
   ],
   "source": [
    "stat.f_oneway(F1,F2,F3,F4)"
   ]
  },
  {
   "cell_type": "code",
   "execution_count": 75,
   "metadata": {},
   "outputs": [
    {
     "data": {
      "text/plain": [
       "Ttest_indResult(statistic=-2.095831779513942, pvalue=0.0443569736167225)"
      ]
     },
     "execution_count": 75,
     "metadata": {},
     "output_type": "execute_result"
    }
   ],
   "source": [
    "stat.ttest_ind(F1,F2)"
   ]
  },
  {
   "cell_type": "code",
   "execution_count": 76,
   "metadata": {},
   "outputs": [
    {
     "data": {
      "text/plain": [
       "Ttest_indResult(statistic=-4.980637835333268, pvalue=1.8199257896406965e-05)"
      ]
     },
     "execution_count": 76,
     "metadata": {},
     "output_type": "execute_result"
    }
   ],
   "source": [
    "stat.ttest_ind(F1,F3)"
   ]
  },
  {
   "cell_type": "code",
   "execution_count": 77,
   "metadata": {},
   "outputs": [
    {
     "data": {
      "text/plain": [
       "Ttest_indResult(statistic=-4.709269858270209, pvalue=3.640126720446334e-05)"
      ]
     },
     "execution_count": 77,
     "metadata": {},
     "output_type": "execute_result"
    }
   ],
   "source": [
    "stat.ttest_ind(F1,F4)"
   ]
  },
  {
   "cell_type": "code",
   "execution_count": 78,
   "metadata": {},
   "outputs": [
    {
     "data": {
      "text/plain": [
       "Ttest_indResult(statistic=-2.4715937403720165, pvalue=0.01914738300800426)"
      ]
     },
     "execution_count": 78,
     "metadata": {},
     "output_type": "execute_result"
    }
   ],
   "source": [
    "stat.ttest_ind(F2,F3)"
   ]
  },
  {
   "cell_type": "code",
   "execution_count": 79,
   "metadata": {},
   "outputs": [
    {
     "data": {
      "text/plain": [
       "Ttest_indResult(statistic=-2.387108314450158, pvalue=0.022867788351093456)"
      ]
     },
     "execution_count": 79,
     "metadata": {},
     "output_type": "execute_result"
    }
   ],
   "source": [
    "stat.ttest_ind(F2,F4)"
   ]
  },
  {
   "cell_type": "code",
   "execution_count": 80,
   "metadata": {},
   "outputs": [
    {
     "data": {
      "text/plain": [
       "Ttest_indResult(statistic=-0.07324035499758542, pvalue=0.9420202865234808)"
      ]
     },
     "execution_count": 80,
     "metadata": {},
     "output_type": "execute_result"
    }
   ],
   "source": [
    "stat.ttest_ind(F3,F4)"
   ]
  },
  {
   "cell_type": "code",
   "execution_count": 81,
   "metadata": {},
   "outputs": [],
   "source": [
    "# SUICIDE ET SAISONS\n",
    "data6=pd.read_csv(\"score-6.csv\",sep=\";\")"
   ]
  },
  {
   "cell_type": "code",
   "execution_count": 83,
   "metadata": {},
   "outputs": [],
   "source": [
    "suicidEII=np.array([283,306,210,201])"
   ]
  },
  {
   "cell_type": "code",
   "execution_count": 87,
   "metadata": {},
   "outputs": [
    {
     "data": {
      "text/plain": [
       "Power_divergenceResult(statistic=32.903999999999996, pvalue=3.3743909565465174e-07)"
      ]
     },
     "execution_count": 87,
     "metadata": {},
     "output_type": "execute_result"
    }
   ],
   "source": [
    "stat.chisquare(data6,f_exp=[250,250,250,250],axis=None)\n"
   ]
  },
  {
   "cell_type": "code",
   "execution_count": 88,
   "metadata": {},
   "outputs": [],
   "source": [
    "#préférence petit garçon petite fille"
   ]
  },
  {
   "cell_type": "code",
   "execution_count": 89,
   "metadata": {},
   "outputs": [
    {
     "data": {
      "text/html": [
       "<div>\n",
       "<style scoped>\n",
       "    .dataframe tbody tr th:only-of-type {\n",
       "        vertical-align: middle;\n",
       "    }\n",
       "\n",
       "    .dataframe tbody tr th {\n",
       "        vertical-align: top;\n",
       "    }\n",
       "\n",
       "    .dataframe thead th {\n",
       "        text-align: right;\n",
       "    }\n",
       "</style>\n",
       "<table border=\"1\" class=\"dataframe\">\n",
       "  <thead>\n",
       "    <tr style=\"text-align: right;\">\n",
       "      <th></th>\n",
       "      <th>Unnamed: 0</th>\n",
       "      <th>HOMME</th>\n",
       "      <th>FEMME</th>\n",
       "    </tr>\n",
       "  </thead>\n",
       "  <tbody>\n",
       "    <tr>\n",
       "      <th>0</th>\n",
       "      <td>PG</td>\n",
       "      <td>45</td>\n",
       "      <td>57</td>\n",
       "    </tr>\n",
       "    <tr>\n",
       "      <th>1</th>\n",
       "      <td>PF</td>\n",
       "      <td>55</td>\n",
       "      <td>43</td>\n",
       "    </tr>\n",
       "  </tbody>\n",
       "</table>\n",
       "</div>"
      ],
      "text/plain": [
       "  Unnamed: 0  HOMME  FEMME\n",
       "0         PG     45     57\n",
       "1         PF     55     43"
      ]
     },
     "execution_count": 89,
     "metadata": {},
     "output_type": "execute_result"
    }
   ],
   "source": [
    "data7=pd.read_csv(\"score-7.csv\",sep=\";\")\n",
    "data7"
   ]
  },
  {
   "cell_type": "code",
   "execution_count": 90,
   "metadata": {},
   "outputs": [],
   "source": [
    "data7deux=np.array([[45,47],[55,43]])"
   ]
  },
  {
   "cell_type": "code",
   "execution_count": 91,
   "metadata": {},
   "outputs": [],
   "source": [
    "data9=pd.read_csv(\"score-9.csv\",sep=\";\")"
   ]
  },
  {
   "cell_type": "code",
   "execution_count": 94,
   "metadata": {},
   "outputs": [
    {
     "data": {
      "text/plain": [
       "[<matplotlib.lines.Line2D at 0x7feeb5b7e198>]"
      ]
     },
     "execution_count": 94,
     "metadata": {},
     "output_type": "execute_result"
    },
    {
     "data": {
      "image/png": "[encoded data removed]",
      "text/plain": [
       "<Figure size 432x288 with 1 Axes>"
      ]
     },
     "metadata": {
      "needs_background": "light"
     },
     "output_type": "display_data"
    }
   ],
   "source": [
    "plt.plot(data9[\"MOYENNE GENERALE\"],data9['NOTE SEMANTIQUE'],\"x\")"
   ]
  },
  {
   "cell_type": "code",
   "execution_count": 95,
   "metadata": {},
   "outputs": [
    {
     "data": {
      "text/plain": [
       "SpearmanrResult(correlation=array([[ 1.        , -0.13082707, -0.08571429],\n",
       "       [-0.13082707,  1.        ,  0.70075188],\n",
       "       [-0.08571429,  0.70075188,  1.        ]]), pvalue=array([[0.00000000e+00, 5.82473090e-01, 7.19366088e-01],\n",
       "       [5.82473090e-01, 0.00000000e+00, 5.78664102e-04],\n",
       "       [7.19366088e-01, 5.78664102e-04, 0.00000000e+00]]))"
      ]
     },
     "execution_count": 95,
     "metadata": {},
     "output_type": "execute_result"
    }
   ],
   "source": [
    "stat.spearmanr(data9)"
   ]
  },
  {
   "cell_type": "code",
   "execution_count": 96,
   "metadata": {},
   "outputs": [
    {
     "data": {
      "text/html": [
       "<div>\n",
       "<style scoped>\n",
       "    .dataframe tbody tr th:only-of-type {\n",
       "        vertical-align: middle;\n",
       "    }\n",
       "\n",
       "    .dataframe tbody tr th {\n",
       "        vertical-align: top;\n",
       "    }\n",
       "\n",
       "    .dataframe thead th {\n",
       "        text-align: right;\n",
       "    }\n",
       "</style>\n",
       "<table border=\"1\" class=\"dataframe\">\n",
       "  <thead>\n",
       "    <tr style=\"text-align: right;\">\n",
       "      <th></th>\n",
       "      <th>ELEVE</th>\n",
       "      <th>NOTE SEMANTIQUE</th>\n",
       "      <th>MOYENNE GENERALE</th>\n",
       "    </tr>\n",
       "  </thead>\n",
       "  <tbody>\n",
       "    <tr>\n",
       "      <th>ELEVE</th>\n",
       "      <td>1.000000</td>\n",
       "      <td>-0.147273</td>\n",
       "      <td>-0.082383</td>\n",
       "    </tr>\n",
       "    <tr>\n",
       "      <th>NOTE SEMANTIQUE</th>\n",
       "      <td>-0.147273</td>\n",
       "      <td>1.000000</td>\n",
       "      <td>0.716401</td>\n",
       "    </tr>\n",
       "    <tr>\n",
       "      <th>MOYENNE GENERALE</th>\n",
       "      <td>-0.082383</td>\n",
       "      <td>0.716401</td>\n",
       "      <td>1.000000</td>\n",
       "    </tr>\n",
       "  </tbody>\n",
       "</table>\n",
       "</div>"
      ],
      "text/plain": [
       "                     ELEVE  NOTE SEMANTIQUE  MOYENNE GENERALE\n",
       "ELEVE             1.000000        -0.147273         -0.082383\n",
       "NOTE SEMANTIQUE  -0.147273         1.000000          0.716401\n",
       "MOYENNE GENERALE -0.082383         0.716401          1.000000"
      ]
     },
     "execution_count": 96,
     "metadata": {},
     "output_type": "execute_result"
    }
   ],
   "source": [
    "data9.corr()"
   ]
  },
  {
   "cell_type": "code",
   "execution_count": 100,
   "metadata": {},
   "outputs": [
    {
     "data": {
      "text/plain": [
       "<matplotlib.colorbar.Colorbar at 0x7feeb5659908>"
      ]
     },
     "execution_count": 100,
     "metadata": {},
     "output_type": "execute_result"
    },
    {
     "data": {
      "image/png": "[encoded data removed]",
      "text/plain": [
       "<Figure size 288x288 with 2 Axes>"
      ]
     },
     "metadata": {
      "needs_background": "light"
     },
     "output_type": "display_data"
    }
   ],
   "source": [
    "plt.matshow(data9.corr())\n",
    "plt.colorbar()"
   ]
  },
  {
   "cell_type": "code",
   "execution_count": 101,
   "metadata": {},
   "outputs": [
    {
     "data": {
      "text/html": [
       "<style  type=\"text/css\" >\n",
       "    #T_57300a7a_45a0_11e9_8bdb_5dfc0ead6ed9row0_col0 {\n",
       "            background-color:  #023858;\n",
       "        }    #T_57300a7a_45a0_11e9_8bdb_5dfc0ead6ed9row0_col1 {\n",
       "            background-color:  #fff7fb;\n",
       "        }    #T_57300a7a_45a0_11e9_8bdb_5dfc0ead6ed9row0_col2 {\n",
       "            background-color:  #fff7fb;\n",
       "        }    #T_57300a7a_45a0_11e9_8bdb_5dfc0ead6ed9row1_col0 {\n",
       "            background-color:  #fff7fb;\n",
       "        }    #T_57300a7a_45a0_11e9_8bdb_5dfc0ead6ed9row1_col1 {\n",
       "            background-color:  #023858;\n",
       "        }    #T_57300a7a_45a0_11e9_8bdb_5dfc0ead6ed9row1_col2 {\n",
       "            background-color:  #0a73b2;\n",
       "        }    #T_57300a7a_45a0_11e9_8bdb_5dfc0ead6ed9row2_col0 {\n",
       "            background-color:  #f7f0f7;\n",
       "        }    #T_57300a7a_45a0_11e9_8bdb_5dfc0ead6ed9row2_col1 {\n",
       "            background-color:  #056faf;\n",
       "        }    #T_57300a7a_45a0_11e9_8bdb_5dfc0ead6ed9row2_col2 {\n",
       "            background-color:  #023858;\n",
       "        }</style>  \n",
       "<table id=\"T_57300a7a_45a0_11e9_8bdb_5dfc0ead6ed9\" > \n",
       "<thead>    <tr> \n",
       "        <th class=\"blank level0\" ></th> \n",
       "        <th class=\"col_heading level0 col0\" >ELEVE</th> \n",
       "        <th class=\"col_heading level0 col1\" >NOTE SEMANTIQUE</th> \n",
       "        <th class=\"col_heading level0 col2\" >MOYENNE GENERALE</th> \n",
       "    </tr></thead> \n",
       "<tbody>    <tr> \n",
       "        <th id=\"T_57300a7a_45a0_11e9_8bdb_5dfc0ead6ed9level0_row0\" class=\"row_heading level0 row0\" >ELEVE</th> \n",
       "        <td id=\"T_57300a7a_45a0_11e9_8bdb_5dfc0ead6ed9row0_col0\" class=\"data row0 col0\" >1</td> \n",
       "        <td id=\"T_57300a7a_45a0_11e9_8bdb_5dfc0ead6ed9row0_col1\" class=\"data row0 col1\" >-0.147273</td> \n",
       "        <td id=\"T_57300a7a_45a0_11e9_8bdb_5dfc0ead6ed9row0_col2\" class=\"data row0 col2\" >-0.0823833</td> \n",
       "    </tr>    <tr> \n",
       "        <th id=\"T_57300a7a_45a0_11e9_8bdb_5dfc0ead6ed9level0_row1\" class=\"row_heading level0 row1\" >NOTE SEMANTIQUE</th> \n",
       "        <td id=\"T_57300a7a_45a0_11e9_8bdb_5dfc0ead6ed9row1_col0\" class=\"data row1 col0\" >-0.147273</td> \n",
       "        <td id=\"T_57300a7a_45a0_11e9_8bdb_5dfc0ead6ed9row1_col1\" class=\"data row1 col1\" >1</td> \n",
       "        <td id=\"T_57300a7a_45a0_11e9_8bdb_5dfc0ead6ed9row1_col2\" class=\"data row1 col2\" >0.716401</td> \n",
       "    </tr>    <tr> \n",
       "        <th id=\"T_57300a7a_45a0_11e9_8bdb_5dfc0ead6ed9level0_row2\" class=\"row_heading level0 row2\" >MOYENNE GENERALE</th> \n",
       "        <td id=\"T_57300a7a_45a0_11e9_8bdb_5dfc0ead6ed9row2_col0\" class=\"data row2 col0\" >-0.0823833</td> \n",
       "        <td id=\"T_57300a7a_45a0_11e9_8bdb_5dfc0ead6ed9row2_col1\" class=\"data row2 col1\" >0.716401</td> \n",
       "        <td id=\"T_57300a7a_45a0_11e9_8bdb_5dfc0ead6ed9row2_col2\" class=\"data row2 col2\" >1</td> \n",
       "    </tr></tbody> \n",
       "</table> "
      ],
      "text/plain": [
       "<pandas.io.formats.style.Styler at 0x7feeb7e76e10>"
      ]
     },
     "execution_count": 101,
     "metadata": {},
     "output_type": "execute_result"
    }
   ],
   "source": [
    "corr=data9.corr()\n",
    "corr.style.background_gradient()"
   ]
  },
  {
   "cell_type": "code",
   "execution_count": 102,
   "metadata": {},
   "outputs": [],
   "source": [
    "data10=pd.read_csv(\"score-10.csv\",sep=\";\")"
   ]
  },
  {
   "cell_type": "code",
   "execution_count": 103,
   "metadata": {},
   "outputs": [
    {
     "data": {
      "text/html": [
       "<div>\n",
       "<style scoped>\n",
       "    .dataframe tbody tr th:only-of-type {\n",
       "        vertical-align: middle;\n",
       "    }\n",
       "\n",
       "    .dataframe tbody tr th {\n",
       "        vertical-align: top;\n",
       "    }\n",
       "\n",
       "    .dataframe thead th {\n",
       "        text-align: right;\n",
       "    }\n",
       "</style>\n",
       "<table border=\"1\" class=\"dataframe\">\n",
       "  <thead>\n",
       "    <tr style=\"text-align: right;\">\n",
       "      <th></th>\n",
       "      <th>ANNEE</th>\n",
       "      <th>TAUXCHOMAGE</th>\n",
       "      <th>TAUXSUICIDE</th>\n",
       "    </tr>\n",
       "  </thead>\n",
       "  <tbody>\n",
       "    <tr>\n",
       "      <th>0</th>\n",
       "      <td>1981</td>\n",
       "      <td>4,91</td>\n",
       "      <td>32,1</td>\n",
       "    </tr>\n",
       "    <tr>\n",
       "      <th>1</th>\n",
       "      <td>1982</td>\n",
       "      <td>4,93</td>\n",
       "      <td>35,1</td>\n",
       "    </tr>\n",
       "    <tr>\n",
       "      <th>2</th>\n",
       "      <td>1983</td>\n",
       "      <td>4,95</td>\n",
       "      <td>36</td>\n",
       "    </tr>\n",
       "    <tr>\n",
       "      <th>3</th>\n",
       "      <td>1984</td>\n",
       "      <td>5,82</td>\n",
       "      <td>37,4</td>\n",
       "    </tr>\n",
       "    <tr>\n",
       "      <th>4</th>\n",
       "      <td>1985</td>\n",
       "      <td>6,21</td>\n",
       "      <td>37,2</td>\n",
       "    </tr>\n",
       "    <tr>\n",
       "      <th>5</th>\n",
       "      <td>1986</td>\n",
       "      <td>6,84</td>\n",
       "      <td>37</td>\n",
       "    </tr>\n",
       "    <tr>\n",
       "      <th>6</th>\n",
       "      <td>1987</td>\n",
       "      <td>6,79</td>\n",
       "      <td>36,8</td>\n",
       "    </tr>\n",
       "    <tr>\n",
       "      <th>7</th>\n",
       "      <td>1988</td>\n",
       "      <td>6,81</td>\n",
       "      <td>36,4</td>\n",
       "    </tr>\n",
       "    <tr>\n",
       "      <th>8</th>\n",
       "      <td>1989</td>\n",
       "      <td>5,97</td>\n",
       "      <td>35,5</td>\n",
       "    </tr>\n",
       "    <tr>\n",
       "      <th>9</th>\n",
       "      <td>1990</td>\n",
       "      <td>5,83</td>\n",
       "      <td>35,1</td>\n",
       "    </tr>\n",
       "    <tr>\n",
       "      <th>10</th>\n",
       "      <td>1991</td>\n",
       "      <td>6,82</td>\n",
       "      <td>35,8</td>\n",
       "    </tr>\n",
       "    <tr>\n",
       "      <th>11</th>\n",
       "      <td>1992</td>\n",
       "      <td>6,91</td>\n",
       "      <td>36,4</td>\n",
       "    </tr>\n",
       "    <tr>\n",
       "      <th>12</th>\n",
       "      <td>1993</td>\n",
       "      <td>8,01</td>\n",
       "      <td>38,2</td>\n",
       "    </tr>\n",
       "    <tr>\n",
       "      <th>13</th>\n",
       "      <td>1994</td>\n",
       "      <td>9,04</td>\n",
       "      <td>39,1</td>\n",
       "    </tr>\n",
       "    <tr>\n",
       "      <th>14</th>\n",
       "      <td>1995</td>\n",
       "      <td>8,43</td>\n",
       "      <td>38,3</td>\n",
       "    </tr>\n",
       "  </tbody>\n",
       "</table>\n",
       "</div>"
      ],
      "text/plain": [
       "    ANNEE TAUXCHOMAGE TAUXSUICIDE\n",
       "0    1981        4,91        32,1\n",
       "1    1982        4,93        35,1\n",
       "2    1983        4,95          36\n",
       "3    1984        5,82        37,4\n",
       "4    1985        6,21        37,2\n",
       "5    1986        6,84          37\n",
       "6    1987        6,79        36,8\n",
       "7    1988        6,81        36,4\n",
       "8    1989        5,97        35,5\n",
       "9    1990        5,83        35,1\n",
       "10   1991        6,82        35,8\n",
       "11   1992        6,91        36,4\n",
       "12   1993        8,01        38,2\n",
       "13   1994        9,04        39,1\n",
       "14   1995        8,43        38,3"
      ]
     },
     "execution_count": 103,
     "metadata": {},
     "output_type": "execute_result"
    }
   ],
   "source": []
  },
  {
   "cell_type": "code",
   "execution_count": 106,
   "metadata": {},
   "outputs": [
    {
     "data": {
      "text/plain": [
       "[<matplotlib.lines.Line2D at 0x7feeb4a9f588>]"
      ]
     },
     "execution_count": 106,
     "metadata": {},
     "output_type": "execute_result"
    },
    {
     "data": {
      "image/png": "[encoded data removed]",
      "text/plain": [
       "<Figure size 720x648 with 1 Axes>"
      ]
     },
     "metadata": {
      "needs_background": "light"
     },
     "output_type": "display_data"
    }
   ],
   "source": [
    "plt.figure(figsize=(10,9))\n",
    "plt.plot(data10['TAUXCHOMAGE'],data10['TAUXSUICIDE'],'x')"
   ]
  },
  {
   "cell_type": "code",
   "execution_count": 107,
   "metadata": {},
   "outputs": [],
   "source": [
    "data11=pd.read_csv(\"score-11.csv\",sep=\";\")"
   ]
  },
  {
   "cell_type": "code",
   "execution_count": 109,
   "metadata": {},
   "outputs": [
    {
     "data": {
      "text/html": [
       "<div>\n",
       "<style scoped>\n",
       "    .dataframe tbody tr th:only-of-type {\n",
       "        vertical-align: middle;\n",
       "    }\n",
       "\n",
       "    .dataframe tbody tr th {\n",
       "        vertical-align: top;\n",
       "    }\n",
       "\n",
       "    .dataframe thead th {\n",
       "        text-align: right;\n",
       "    }\n",
       "</style>\n",
       "<table border=\"1\" class=\"dataframe\">\n",
       "  <thead>\n",
       "    <tr style=\"text-align: right;\">\n",
       "      <th></th>\n",
       "      <th>ANNEE</th>\n",
       "      <th>TAUXCHOMAGE</th>\n",
       "      <th>TAUXSUICIDE</th>\n",
       "    </tr>\n",
       "  </thead>\n",
       "  <tbody>\n",
       "    <tr>\n",
       "      <th>ANNEE</th>\n",
       "      <td>1.000000</td>\n",
       "      <td>0.872629</td>\n",
       "      <td>0.619102</td>\n",
       "    </tr>\n",
       "    <tr>\n",
       "      <th>TAUXCHOMAGE</th>\n",
       "      <td>0.872629</td>\n",
       "      <td>1.000000</td>\n",
       "      <td>0.796243</td>\n",
       "    </tr>\n",
       "    <tr>\n",
       "      <th>TAUXSUICIDE</th>\n",
       "      <td>0.619102</td>\n",
       "      <td>0.796243</td>\n",
       "      <td>1.000000</td>\n",
       "    </tr>\n",
       "  </tbody>\n",
       "</table>\n",
       "</div>"
      ],
      "text/plain": [
       "                ANNEE  TAUXCHOMAGE  TAUXSUICIDE\n",
       "ANNEE        1.000000     0.872629     0.619102\n",
       "TAUXCHOMAGE  0.872629     1.000000     0.796243\n",
       "TAUXSUICIDE  0.619102     0.796243     1.000000"
      ]
     },
     "execution_count": 109,
     "metadata": {},
     "output_type": "execute_result"
    }
   ],
   "source": [
    "data11.corr()"
   ]
  },
  {
   "cell_type": "code",
   "execution_count": null,
   "metadata": {},
   "outputs": [],
   "source": [
    "#Analyse de variance multi categorielle: influence de la musique sur l'attente au telephone. "
   ]
  },
  {
   "cell_type": "code",
   "execution_count": 110,
   "metadata": {},
   "outputs": [],
   "source": [
    "data12=pd.read_csv(\"score-12.csv\",sep=\";\")"
   ]
  },
  {
   "cell_type": "code",
   "execution_count": 111,
   "metadata": {},
   "outputs": [
    {
     "data": {
      "text/html": [
       "<div>\n",
       "<style scoped>\n",
       "    .dataframe tbody tr th:only-of-type {\n",
       "        vertical-align: middle;\n",
       "    }\n",
       "\n",
       "    .dataframe tbody tr th {\n",
       "        vertical-align: top;\n",
       "    }\n",
       "\n",
       "    .dataframe thead th {\n",
       "        text-align: right;\n",
       "    }\n",
       "</style>\n",
       "<table border=\"1\" class=\"dataframe\">\n",
       "  <thead>\n",
       "    <tr style=\"text-align: right;\">\n",
       "      <th></th>\n",
       "      <th>CLASSIQUE</th>\n",
       "      <th>POPULAIRE</th>\n",
       "      <th>RELAXANTE</th>\n",
       "      <th>COUNTRY</th>\n",
       "      <th>JAZZ</th>\n",
       "    </tr>\n",
       "  </thead>\n",
       "  <tbody>\n",
       "    <tr>\n",
       "      <th>0</th>\n",
       "      <td>26.74</td>\n",
       "      <td>19.64</td>\n",
       "      <td>29.72</td>\n",
       "      <td>23.39</td>\n",
       "      <td>7.94</td>\n",
       "    </tr>\n",
       "    <tr>\n",
       "      <th>1</th>\n",
       "      <td>10.87</td>\n",
       "      <td>16.52</td>\n",
       "      <td>23.59</td>\n",
       "      <td>15.41</td>\n",
       "      <td>7.28</td>\n",
       "    </tr>\n",
       "    <tr>\n",
       "      <th>2</th>\n",
       "      <td>26.51</td>\n",
       "      <td>17.10</td>\n",
       "      <td>31.09</td>\n",
       "      <td>11.00</td>\n",
       "      <td>12.48</td>\n",
       "    </tr>\n",
       "    <tr>\n",
       "      <th>3</th>\n",
       "      <td>18.67</td>\n",
       "      <td>18.11</td>\n",
       "      <td>22.14</td>\n",
       "      <td>3.72</td>\n",
       "      <td>9.64</td>\n",
       "    </tr>\n",
       "    <tr>\n",
       "      <th>4</th>\n",
       "      <td>15.03</td>\n",
       "      <td>29.20</td>\n",
       "      <td>24.36</td>\n",
       "      <td>7.96</td>\n",
       "      <td>9.31</td>\n",
       "    </tr>\n",
       "    <tr>\n",
       "      <th>5</th>\n",
       "      <td>20.38</td>\n",
       "      <td>17.39</td>\n",
       "      <td>36.37</td>\n",
       "      <td>20.04</td>\n",
       "      <td>12.46</td>\n",
       "    </tr>\n",
       "    <tr>\n",
       "      <th>6</th>\n",
       "      <td>20.43</td>\n",
       "      <td>10.12</td>\n",
       "      <td>22.88</td>\n",
       "      <td>11.81</td>\n",
       "      <td>8.93</td>\n",
       "    </tr>\n",
       "    <tr>\n",
       "      <th>7</th>\n",
       "      <td>5.63</td>\n",
       "      <td>27.40</td>\n",
       "      <td>17.72</td>\n",
       "      <td>10.05</td>\n",
       "      <td>5.21</td>\n",
       "    </tr>\n",
       "    <tr>\n",
       "      <th>8</th>\n",
       "      <td>5.37</td>\n",
       "      <td>15.87</td>\n",
       "      <td>10.98</td>\n",
       "      <td>7.41</td>\n",
       "      <td>14.27</td>\n",
       "    </tr>\n",
       "    <tr>\n",
       "      <th>9</th>\n",
       "      <td>2.87</td>\n",
       "      <td>13.23</td>\n",
       "      <td>6.03</td>\n",
       "      <td>9.33</td>\n",
       "      <td>8.90</td>\n",
       "    </tr>\n",
       "    <tr>\n",
       "      <th>10</th>\n",
       "      <td>3.05</td>\n",
       "      <td>4.75</td>\n",
       "      <td>5.10</td>\n",
       "      <td>7.13</td>\n",
       "      <td>5.31</td>\n",
       "    </tr>\n",
       "    <tr>\n",
       "      <th>11</th>\n",
       "      <td>8.26</td>\n",
       "      <td>3.67</td>\n",
       "      <td>13.99</td>\n",
       "      <td>4.90</td>\n",
       "      <td>13.59</td>\n",
       "    </tr>\n",
       "    <tr>\n",
       "      <th>12</th>\n",
       "      <td>10.92</td>\n",
       "      <td>5.41</td>\n",
       "      <td>8.07</td>\n",
       "      <td>8.71</td>\n",
       "      <td>6.23</td>\n",
       "    </tr>\n",
       "    <tr>\n",
       "      <th>13</th>\n",
       "      <td>10.08</td>\n",
       "      <td>11.85</td>\n",
       "      <td>13.22</td>\n",
       "      <td>4.29</td>\n",
       "      <td>7.74</td>\n",
       "    </tr>\n",
       "  </tbody>\n",
       "</table>\n",
       "</div>"
      ],
      "text/plain": [
       "    CLASSIQUE  POPULAIRE  RELAXANTE  COUNTRY   JAZZ\n",
       "0       26.74      19.64      29.72    23.39   7.94\n",
       "1       10.87      16.52      23.59    15.41   7.28\n",
       "2       26.51      17.10      31.09    11.00  12.48\n",
       "3       18.67      18.11      22.14     3.72   9.64\n",
       "4       15.03      29.20      24.36     7.96   9.31\n",
       "5       20.38      17.39      36.37    20.04  12.46\n",
       "6       20.43      10.12      22.88    11.81   8.93\n",
       "7        5.63      27.40      17.72    10.05   5.21\n",
       "8        5.37      15.87      10.98     7.41  14.27\n",
       "9        2.87      13.23       6.03     9.33   8.90\n",
       "10       3.05       4.75       5.10     7.13   5.31\n",
       "11       8.26       3.67      13.99     4.90  13.59\n",
       "12      10.92       5.41       8.07     8.71   6.23\n",
       "13      10.08      11.85      13.22     4.29   7.74"
      ]
     },
     "execution_count": 111,
     "metadata": {},
     "output_type": "execute_result"
    }
   ],
   "source": []
  },
  {
   "cell_type": "code",
   "execution_count": 114,
   "metadata": {},
   "outputs": [],
   "source": [
    "from statsmodels.stats.multicomp import pairwise_tukeyhsd\n",
    "from statsmodels.stats.multicomp import MultiComparison"
   ]
  },
  {
   "cell_type": "code",
   "execution_count": 117,
   "metadata": {},
   "outputs": [
    {
     "data": {
      "text/plain": [
       "F_onewayResult(statistic=3.987918623378843, pvalue=0.005913186895024143)"
      ]
     },
     "execution_count": 117,
     "metadata": {},
     "output_type": "execute_result"
    }
   ],
   "source": [
    "stat.f_oneway(data12['CLASSIQUE'],data12['POPULAIRE'],data12['RELAXANTE'],data12['COUNTRY'],data12['JAZZ'])"
   ]
  },
  {
   "cell_type": "code",
   "execution_count": 119,
   "metadata": {},
   "outputs": [
    {
     "data": {
      "text/html": [
       "<div>\n",
       "<style scoped>\n",
       "    .dataframe tbody tr th:only-of-type {\n",
       "        vertical-align: middle;\n",
       "    }\n",
       "\n",
       "    .dataframe tbody tr th {\n",
       "        vertical-align: top;\n",
       "    }\n",
       "\n",
       "    .dataframe thead th {\n",
       "        text-align: right;\n",
       "    }\n",
       "</style>\n",
       "<table border=\"1\" class=\"dataframe\">\n",
       "  <thead>\n",
       "    <tr style=\"text-align: right;\">\n",
       "      <th></th>\n",
       "      <th>MUSIQUE</th>\n",
       "      <th>SCORE</th>\n",
       "    </tr>\n",
       "  </thead>\n",
       "  <tbody>\n",
       "    <tr>\n",
       "      <th>0</th>\n",
       "      <td>CLASSIQUE</td>\n",
       "      <td>26.74</td>\n",
       "    </tr>\n",
       "    <tr>\n",
       "      <th>1</th>\n",
       "      <td>CLASSIQUE</td>\n",
       "      <td>10.87</td>\n",
       "    </tr>\n",
       "    <tr>\n",
       "      <th>2</th>\n",
       "      <td>CLASSIQUE</td>\n",
       "      <td>26.51</td>\n",
       "    </tr>\n",
       "    <tr>\n",
       "      <th>3</th>\n",
       "      <td>CLASSIQUE</td>\n",
       "      <td>18.67</td>\n",
       "    </tr>\n",
       "    <tr>\n",
       "      <th>4</th>\n",
       "      <td>CLASSIQUE</td>\n",
       "      <td>15.03</td>\n",
       "    </tr>\n",
       "    <tr>\n",
       "      <th>5</th>\n",
       "      <td>CLASSIQUE</td>\n",
       "      <td>20.38</td>\n",
       "    </tr>\n",
       "    <tr>\n",
       "      <th>6</th>\n",
       "      <td>CLASSIQUE</td>\n",
       "      <td>20.43</td>\n",
       "    </tr>\n",
       "    <tr>\n",
       "      <th>7</th>\n",
       "      <td>CLASSIQUE</td>\n",
       "      <td>5.63</td>\n",
       "    </tr>\n",
       "    <tr>\n",
       "      <th>8</th>\n",
       "      <td>CLASSIQUE</td>\n",
       "      <td>5.37</td>\n",
       "    </tr>\n",
       "    <tr>\n",
       "      <th>9</th>\n",
       "      <td>CLASSIQUE</td>\n",
       "      <td>2.87</td>\n",
       "    </tr>\n",
       "    <tr>\n",
       "      <th>10</th>\n",
       "      <td>CLASSIQUE</td>\n",
       "      <td>3.05</td>\n",
       "    </tr>\n",
       "    <tr>\n",
       "      <th>11</th>\n",
       "      <td>CLASSIQUE</td>\n",
       "      <td>8.26</td>\n",
       "    </tr>\n",
       "    <tr>\n",
       "      <th>12</th>\n",
       "      <td>CLASSIQUE</td>\n",
       "      <td>10.92</td>\n",
       "    </tr>\n",
       "    <tr>\n",
       "      <th>13</th>\n",
       "      <td>CLASSIQUE</td>\n",
       "      <td>10.08</td>\n",
       "    </tr>\n",
       "    <tr>\n",
       "      <th>14</th>\n",
       "      <td>POPULAIRE</td>\n",
       "      <td>19.64</td>\n",
       "    </tr>\n",
       "    <tr>\n",
       "      <th>15</th>\n",
       "      <td>POPULAIRE</td>\n",
       "      <td>16.52</td>\n",
       "    </tr>\n",
       "    <tr>\n",
       "      <th>16</th>\n",
       "      <td>POPULAIRE</td>\n",
       "      <td>17.10</td>\n",
       "    </tr>\n",
       "    <tr>\n",
       "      <th>17</th>\n",
       "      <td>POPULAIRE</td>\n",
       "      <td>18.11</td>\n",
       "    </tr>\n",
       "    <tr>\n",
       "      <th>18</th>\n",
       "      <td>POPULAIRE</td>\n",
       "      <td>29.20</td>\n",
       "    </tr>\n",
       "    <tr>\n",
       "      <th>19</th>\n",
       "      <td>POPULAIRE</td>\n",
       "      <td>17.39</td>\n",
       "    </tr>\n",
       "    <tr>\n",
       "      <th>20</th>\n",
       "      <td>POPULAIRE</td>\n",
       "      <td>10.12</td>\n",
       "    </tr>\n",
       "    <tr>\n",
       "      <th>21</th>\n",
       "      <td>POPULAIRE</td>\n",
       "      <td>27.40</td>\n",
       "    </tr>\n",
       "    <tr>\n",
       "      <th>22</th>\n",
       "      <td>POPULAIRE</td>\n",
       "      <td>15.87</td>\n",
       "    </tr>\n",
       "    <tr>\n",
       "      <th>23</th>\n",
       "      <td>POPULAIRE</td>\n",
       "      <td>13.23</td>\n",
       "    </tr>\n",
       "    <tr>\n",
       "      <th>24</th>\n",
       "      <td>POPULAIRE</td>\n",
       "      <td>4.75</td>\n",
       "    </tr>\n",
       "    <tr>\n",
       "      <th>25</th>\n",
       "      <td>POPULAIRE</td>\n",
       "      <td>3.67</td>\n",
       "    </tr>\n",
       "    <tr>\n",
       "      <th>26</th>\n",
       "      <td>POPULAIRE</td>\n",
       "      <td>5.41</td>\n",
       "    </tr>\n",
       "    <tr>\n",
       "      <th>27</th>\n",
       "      <td>POPULAIRE</td>\n",
       "      <td>11.85</td>\n",
       "    </tr>\n",
       "    <tr>\n",
       "      <th>28</th>\n",
       "      <td>RELAXANTE</td>\n",
       "      <td>29.72</td>\n",
       "    </tr>\n",
       "    <tr>\n",
       "      <th>29</th>\n",
       "      <td>RELAXANTE</td>\n",
       "      <td>23.59</td>\n",
       "    </tr>\n",
       "    <tr>\n",
       "      <th>...</th>\n",
       "      <td>...</td>\n",
       "      <td>...</td>\n",
       "    </tr>\n",
       "    <tr>\n",
       "      <th>40</th>\n",
       "      <td>RELAXANTE</td>\n",
       "      <td>8.07</td>\n",
       "    </tr>\n",
       "    <tr>\n",
       "      <th>41</th>\n",
       "      <td>RELAXANTE</td>\n",
       "      <td>13.22</td>\n",
       "    </tr>\n",
       "    <tr>\n",
       "      <th>42</th>\n",
       "      <td>COUNTRY</td>\n",
       "      <td>23.39</td>\n",
       "    </tr>\n",
       "    <tr>\n",
       "      <th>43</th>\n",
       "      <td>COUNTRY</td>\n",
       "      <td>15.41</td>\n",
       "    </tr>\n",
       "    <tr>\n",
       "      <th>44</th>\n",
       "      <td>COUNTRY</td>\n",
       "      <td>11.00</td>\n",
       "    </tr>\n",
       "    <tr>\n",
       "      <th>45</th>\n",
       "      <td>COUNTRY</td>\n",
       "      <td>3.72</td>\n",
       "    </tr>\n",
       "    <tr>\n",
       "      <th>46</th>\n",
       "      <td>COUNTRY</td>\n",
       "      <td>7.96</td>\n",
       "    </tr>\n",
       "    <tr>\n",
       "      <th>47</th>\n",
       "      <td>COUNTRY</td>\n",
       "      <td>20.04</td>\n",
       "    </tr>\n",
       "    <tr>\n",
       "      <th>48</th>\n",
       "      <td>COUNTRY</td>\n",
       "      <td>11.81</td>\n",
       "    </tr>\n",
       "    <tr>\n",
       "      <th>49</th>\n",
       "      <td>COUNTRY</td>\n",
       "      <td>10.05</td>\n",
       "    </tr>\n",
       "    <tr>\n",
       "      <th>50</th>\n",
       "      <td>COUNTRY</td>\n",
       "      <td>7.41</td>\n",
       "    </tr>\n",
       "    <tr>\n",
       "      <th>51</th>\n",
       "      <td>COUNTRY</td>\n",
       "      <td>9.33</td>\n",
       "    </tr>\n",
       "    <tr>\n",
       "      <th>52</th>\n",
       "      <td>COUNTRY</td>\n",
       "      <td>7.13</td>\n",
       "    </tr>\n",
       "    <tr>\n",
       "      <th>53</th>\n",
       "      <td>COUNTRY</td>\n",
       "      <td>4.90</td>\n",
       "    </tr>\n",
       "    <tr>\n",
       "      <th>54</th>\n",
       "      <td>COUNTRY</td>\n",
       "      <td>8.71</td>\n",
       "    </tr>\n",
       "    <tr>\n",
       "      <th>55</th>\n",
       "      <td>COUNTRY</td>\n",
       "      <td>4.29</td>\n",
       "    </tr>\n",
       "    <tr>\n",
       "      <th>56</th>\n",
       "      <td>JAZZ</td>\n",
       "      <td>7.94</td>\n",
       "    </tr>\n",
       "    <tr>\n",
       "      <th>57</th>\n",
       "      <td>JAZZ</td>\n",
       "      <td>7.28</td>\n",
       "    </tr>\n",
       "    <tr>\n",
       "      <th>58</th>\n",
       "      <td>JAZZ</td>\n",
       "      <td>12.48</td>\n",
       "    </tr>\n",
       "    <tr>\n",
       "      <th>59</th>\n",
       "      <td>JAZZ</td>\n",
       "      <td>9.64</td>\n",
       "    </tr>\n",
       "    <tr>\n",
       "      <th>60</th>\n",
       "      <td>JAZZ</td>\n",
       "      <td>9.31</td>\n",
       "    </tr>\n",
       "    <tr>\n",
       "      <th>61</th>\n",
       "      <td>JAZZ</td>\n",
       "      <td>12.46</td>\n",
       "    </tr>\n",
       "    <tr>\n",
       "      <th>62</th>\n",
       "      <td>JAZZ</td>\n",
       "      <td>8.93</td>\n",
       "    </tr>\n",
       "    <tr>\n",
       "      <th>63</th>\n",
       "      <td>JAZZ</td>\n",
       "      <td>5.21</td>\n",
       "    </tr>\n",
       "    <tr>\n",
       "      <th>64</th>\n",
       "      <td>JAZZ</td>\n",
       "      <td>14.27</td>\n",
       "    </tr>\n",
       "    <tr>\n",
       "      <th>65</th>\n",
       "      <td>JAZZ</td>\n",
       "      <td>8.90</td>\n",
       "    </tr>\n",
       "    <tr>\n",
       "      <th>66</th>\n",
       "      <td>JAZZ</td>\n",
       "      <td>5.31</td>\n",
       "    </tr>\n",
       "    <tr>\n",
       "      <th>67</th>\n",
       "      <td>JAZZ</td>\n",
       "      <td>13.59</td>\n",
       "    </tr>\n",
       "    <tr>\n",
       "      <th>68</th>\n",
       "      <td>JAZZ</td>\n",
       "      <td>6.23</td>\n",
       "    </tr>\n",
       "    <tr>\n",
       "      <th>69</th>\n",
       "      <td>JAZZ</td>\n",
       "      <td>7.74</td>\n",
       "    </tr>\n",
       "  </tbody>\n",
       "</table>\n",
       "<p>70 rows × 2 columns</p>\n",
       "</div>"
      ],
      "text/plain": [
       "      MUSIQUE  SCORE\n",
       "0   CLASSIQUE  26.74\n",
       "1   CLASSIQUE  10.87\n",
       "2   CLASSIQUE  26.51\n",
       "3   CLASSIQUE  18.67\n",
       "4   CLASSIQUE  15.03\n",
       "5   CLASSIQUE  20.38\n",
       "6   CLASSIQUE  20.43\n",
       "7   CLASSIQUE   5.63\n",
       "8   CLASSIQUE   5.37\n",
       "9   CLASSIQUE   2.87\n",
       "10  CLASSIQUE   3.05\n",
       "11  CLASSIQUE   8.26\n",
       "12  CLASSIQUE  10.92\n",
       "13  CLASSIQUE  10.08\n",
       "14  POPULAIRE  19.64\n",
       "15  POPULAIRE  16.52\n",
       "16  POPULAIRE  17.10\n",
       "17  POPULAIRE  18.11\n",
       "18  POPULAIRE  29.20\n",
       "19  POPULAIRE  17.39\n",
       "20  POPULAIRE  10.12\n",
       "21  POPULAIRE  27.40\n",
       "22  POPULAIRE  15.87\n",
       "23  POPULAIRE  13.23\n",
       "24  POPULAIRE   4.75\n",
       "25  POPULAIRE   3.67\n",
       "26  POPULAIRE   5.41\n",
       "27  POPULAIRE  11.85\n",
       "28  RELAXANTE  29.72\n",
       "29  RELAXANTE  23.59\n",
       "..        ...    ...\n",
       "40  RELAXANTE   8.07\n",
       "41  RELAXANTE  13.22\n",
       "42    COUNTRY  23.39\n",
       "43    COUNTRY  15.41\n",
       "44    COUNTRY  11.00\n",
       "45    COUNTRY   3.72\n",
       "46    COUNTRY   7.96\n",
       "47    COUNTRY  20.04\n",
       "48    COUNTRY  11.81\n",
       "49    COUNTRY  10.05\n",
       "50    COUNTRY   7.41\n",
       "51    COUNTRY   9.33\n",
       "52    COUNTRY   7.13\n",
       "53    COUNTRY   4.90\n",
       "54    COUNTRY   8.71\n",
       "55    COUNTRY   4.29\n",
       "56       JAZZ   7.94\n",
       "57       JAZZ   7.28\n",
       "58       JAZZ  12.48\n",
       "59       JAZZ   9.64\n",
       "60       JAZZ   9.31\n",
       "61       JAZZ  12.46\n",
       "62       JAZZ   8.93\n",
       "63       JAZZ   5.21\n",
       "64       JAZZ  14.27\n",
       "65       JAZZ   8.90\n",
       "66       JAZZ   5.31\n",
       "67       JAZZ  13.59\n",
       "68       JAZZ   6.23\n",
       "69       JAZZ   7.74\n",
       "\n",
       "[70 rows x 2 columns]"
      ]
     },
     "execution_count": 119,
     "metadata": {},
     "output_type": "execute_result"
    }
   ],
   "source": [
    "data14=pd.read_csv(\"score-14.csv\",sep=\";\")\n",
    "data14"
   ]
  },
  {
   "cell_type": "code",
   "execution_count": 123,
   "metadata": {},
   "outputs": [
    {
     "name": "stdout",
     "output_type": "stream",
     "text": [
      " Multiple Comparison of Means - Tukey HSD,FWER=0.05 \n",
      "====================================================\n",
      "  group1    group2  meandiff  lower    upper  reject\n",
      "----------------------------------------------------\n",
      "CLASSIQUE  COUNTRY  -2.8329  -10.526   4.8603 False \n",
      "CLASSIQUE    JAZZ   -3.9657  -11.6589  3.7274 False \n",
      "CLASSIQUE POPULAIRE  1.8179  -5.8753   9.511  False \n",
      "CLASSIQUE RELAXANTE  5.7464  -1.9467  13.4396 False \n",
      " COUNTRY     JAZZ   -1.1329   -8.826   6.5603 False \n",
      " COUNTRY  POPULAIRE  4.6507  -3.0424  12.3439 False \n",
      " COUNTRY  RELAXANTE  8.5793   0.8861  16.2724  True \n",
      "   JAZZ   POPULAIRE  5.7836  -1.9096  13.4767 False \n",
      "   JAZZ   RELAXANTE  9.7121   2.019   17.4053  True \n",
      "POPULAIRE RELAXANTE  3.9286  -3.7646  11.6217 False \n",
      "----------------------------------------------------\n"
     ]
    }
   ],
   "source": [
    "mc=MultiComparison(data14['SCORE'],data14['MUSIQUE'])\n",
    "result=mc.tukeyhsd()\n",
    "print(result)"
   ]
  },
  {
   "cell_type": "code",
   "execution_count": 124,
   "metadata": {},
   "outputs": [
    {
     "data": {
      "text/html": [
       "<table class=\"simpletable\">\n",
       "<caption>Multiple Comparison of Means - Tukey HSD,FWER=0.05</caption>\n",
       "<tr>\n",
       "   <th>group1</th>    <th>group2</th>   <th>meandiff</th>   <th>lower</th>   <th>upper</th>  <th>reject</th>\n",
       "</tr>\n",
       "<tr>\n",
       "  <td>CLASSIQUE</td>  <td>COUNTRY</td>   <td>-2.8329</td>  <td>-10.526</td> <td>4.8603</td>   <td>False</td>\n",
       "</tr>\n",
       "<tr>\n",
       "  <td>CLASSIQUE</td>   <td>JAZZ</td>     <td>-3.9657</td> <td>-11.6589</td> <td>3.7274</td>   <td>False</td>\n",
       "</tr>\n",
       "<tr>\n",
       "  <td>CLASSIQUE</td> <td>POPULAIRE</td>  <td>1.8179</td>   <td>-5.8753</td>  <td>9.511</td>   <td>False</td>\n",
       "</tr>\n",
       "<tr>\n",
       "  <td>CLASSIQUE</td> <td>RELAXANTE</td>  <td>5.7464</td>   <td>-1.9467</td> <td>13.4396</td>  <td>False</td>\n",
       "</tr>\n",
       "<tr>\n",
       "   <td>COUNTRY</td>    <td>JAZZ</td>     <td>-1.1329</td>  <td>-8.826</td>  <td>6.5603</td>   <td>False</td>\n",
       "</tr>\n",
       "<tr>\n",
       "   <td>COUNTRY</td>  <td>POPULAIRE</td>  <td>4.6507</td>   <td>-3.0424</td> <td>12.3439</td>  <td>False</td>\n",
       "</tr>\n",
       "<tr>\n",
       "   <td>COUNTRY</td>  <td>RELAXANTE</td>  <td>8.5793</td>   <td>0.8861</td>  <td>16.2724</td>  <td>True</td> \n",
       "</tr>\n",
       "<tr>\n",
       "    <td>JAZZ</td>    <td>POPULAIRE</td>  <td>5.7836</td>   <td>-1.9096</td> <td>13.4767</td>  <td>False</td>\n",
       "</tr>\n",
       "<tr>\n",
       "    <td>JAZZ</td>    <td>RELAXANTE</td>  <td>9.7121</td>    <td>2.019</td>  <td>17.4053</td>  <td>True</td> \n",
       "</tr>\n",
       "<tr>\n",
       "  <td>POPULAIRE</td> <td>RELAXANTE</td>  <td>3.9286</td>   <td>-3.7646</td> <td>11.6217</td>  <td>False</td>\n",
       "</tr>\n",
       "</table>"
      ],
      "text/plain": [
       "<class 'statsmodels.iolib.table.SimpleTable'>"
      ]
     },
     "execution_count": 124,
     "metadata": {},
     "output_type": "execute_result"
    },
    {
     "data": {
      "image/png": "[encoded data removed]",
      "text/plain": [
       "<Figure size 720x432 with 1 Axes>"
      ]
     },
     "metadata": {
      "needs_background": "light"
     },
     "output_type": "display_data"
    }
   ],
   "source": [
    "tukey=pairwise_tukeyhsd(endog=data14['SCORE'],groups=data14['MUSIQUE'],alpha=0.05)\n",
    "tukey.plot_simultaneous()\n",
    "plt.vlines(x=49.57,ymin=0.5,ymax=1.5,color='red')\n",
    "tukey.summary()"
   ]
  },
  {
   "cell_type": "code",
   "execution_count": null,
   "metadata": {},
   "outputs": [],
   "source": []
  }
 ],
 "metadata": {
  "kernelspec": {
   "display_name": "Python 3",
   "language": "python",
   "name": "python3"
  },
  "language_info": {
   "codemirror_mode": {
    "name": "ipython",
    "version": 3
   },
   "file_extension": ".py",
   "mimetype": "text/x-python",
   "name": "python",
   "nbconvert_exporter": "python",
   "pygments_lexer": "ipython3",
   "version": "3.7.0"
  }
 },
 "nbformat": 4,
 "nbformat_minor": 2
}
