{
 "cells": [
  {
   "cell_type": "code",
   "execution_count": 13,
   "metadata": {},
   "outputs": [],
   "source": [
    "#test de khi-deux\n",
    "import numpy as np\n",
    "from scipy.stats import chi2_contingency,chisquare"
   ]
  },
  {
   "cell_type": "code",
   "execution_count": 3,
   "metadata": {},
   "outputs": [
    {
     "data": {
      "text/plain": [
       "array([[35, 10, 22, 15, 10],\n",
       "       [ 6, 10, 20, 19, 19]])"
      ]
     },
     "execution_count": 3,
     "metadata": {},
     "output_type": "execute_result"
    }
   ],
   "source": [
    "M=np.array([[35,10,22,15,10],[6,10,20,19,19]])\n",
    "M"
   ]
  },
  {
   "cell_type": "code",
   "execution_count": 4,
   "metadata": {},
   "outputs": [
    {
     "data": {
      "text/plain": [
       "(2, 5)"
      ]
     },
     "execution_count": 4,
     "metadata": {},
     "output_type": "execute_result"
    }
   ],
   "source": [
    "M.shape"
   ]
  },
  {
   "cell_type": "code",
   "execution_count": 7,
   "metadata": {},
   "outputs": [
    {
     "data": {
      "text/plain": [
       "(22.18010861359148,\n",
       " 0.00018453504803002114,\n",
       " 4,\n",
       " array([[22.72289157, 11.08433735, 23.27710843, 18.84337349, 16.07228916],\n",
       "        [18.27710843,  8.91566265, 18.72289157, 15.15662651, 12.92771084]]))"
      ]
     },
     "execution_count": 7,
     "metadata": {},
     "output_type": "execute_result"
    }
   ],
   "source": [
    "chi2_contingency(M)\n",
    "#chi2= premiere valeur\n",
    "#p_valeur: deuxieme ligne\n",
    "#dégré de liberté: troisième ligne\n",
    "#le reste: données théorique (ce qui devrait être, par rapport au données véritables que on nous à données)\n",
    "# on voit que les deux dernières colonnes utilise moins l'ordinateur que il devrait le faire en théorie. \n",
    "#on conclu que la matière à un impact sur la données (on le vois par la p_valeur, qui est inférieur à 0.05)\n",
    "# tout tableau avec double entrée et données quantitatives sont soumis à Khi2"
   ]
  },
  {
   "cell_type": "code",
   "execution_count": 11,
   "metadata": {},
   "outputs": [
    {
     "data": {
      "text/plain": [
       "array([[342, 258],\n",
       "       [158, 242]])"
      ]
     },
     "execution_count": 11,
     "metadata": {},
     "output_type": "execute_result"
    }
   ],
   "source": [
    "#exemple 2\n",
    "N=np.array([[342,258],[158,242]])\n",
    "N\n",
    "#ici, on s'en fout des totaux dans nos calculs."
   ]
  },
  {
   "cell_type": "code",
   "execution_count": 12,
   "metadata": {},
   "outputs": [
    {
     "data": {
      "text/plain": [
       "(28.704166666666666, 8.432211190641555e-08, 1, array([[300., 300.],\n",
       "        [200., 200.]]))"
      ]
     },
     "execution_count": 12,
     "metadata": {},
     "output_type": "execute_result"
    }
   ],
   "source": [
    "chi2_contingency(N)\n",
    "# on observe que il y a lien entre le fait de fumer et d'avoir un cancer. (en théorie, on voit que il a 300 personnes fumeur \n",
    "#ayant le cancer en théorie, qui est moins que la valeur véritable)"
   ]
  },
  {
   "cell_type": "code",
   "execution_count": 14,
   "metadata": {},
   "outputs": [
    {
     "data": {
      "text/plain": [
       "Power_divergenceResult(statistic=1.0872960231290378, pvalue=0.8962825607554513)"
      ]
     },
     "execution_count": 14,
     "metadata": {},
     "output_type": "execute_result"
    }
   ],
   "source": [
    "#exemple 3\n",
    "chisquare([73,82,75,36,18],f_exp=[69.9,79.8,73.8,38.6,21.9])\n",
    "#statistic = chi2 \n",
    "#pvalues= la pvalues forte sur la conformitié confirme que c'est conforme"
   ]
  },
  {
   "cell_type": "code",
   "execution_count": 15,
   "metadata": {},
   "outputs": [],
   "source": [
    "#les tests de normalité\n",
    "import scipy.stats as stat\n",
    "import matplotlib.pyplot as plt\n"
   ]
  },
  {
   "cell_type": "code",
   "execution_count": 16,
   "metadata": {},
   "outputs": [
    {
     "data": {
      "text/plain": [
       "(array([ 2.,  6., 17., 33., 46., 65., 69., 34., 24.,  4.]),\n",
       " array([ 3.69031772,  4.78259384,  5.87486996,  6.96714609,  8.05942221,\n",
       "         9.15169833, 10.24397445, 11.33625057, 12.42852669, 13.52080281,\n",
       "        14.61307893]),\n",
       " <a list of 10 Patch objects>)"
      ]
     },
     "execution_count": 16,
     "metadata": {},
     "output_type": "execute_result"
    },
    {
     "data": {
      "image/png": "[encoded data removed]",
      "text/plain": [
       "<Figure size 432x288 with 1 Axes>"
      ]
     },
     "metadata": {
      "needs_background": "light"
     },
     "output_type": "display_data"
    }
   ],
   "source": [
    "a=stat.norm.rvs(loc=10,scale=2,size=300)\n",
    "plt.hist(a)"
   ]
  },
  {
   "cell_type": "code",
   "execution_count": 17,
   "metadata": {},
   "outputs": [
    {
     "data": {
      "text/plain": [
       "NormaltestResult(statistic=3.5919637120549894, pvalue=0.16596441915707152)"
      ]
     },
     "execution_count": 17,
     "metadata": {},
     "output_type": "execute_result"
    }
   ],
   "source": [
    "stat.normaltest(a)"
   ]
  },
  {
   "cell_type": "code",
   "execution_count": 18,
   "metadata": {},
   "outputs": [
    {
     "data": {
      "text/plain": [
       "(0.9934131503105164, 0.21320068836212158)"
      ]
     },
     "execution_count": 18,
     "metadata": {},
     "output_type": "execute_result"
    }
   ],
   "source": [
    "stat.shapiro(a)"
   ]
  },
  {
   "cell_type": "code",
   "execution_count": 22,
   "metadata": {},
   "outputs": [
    {
     "data": {
      "text/plain": [
       "(array([48., 21., 14.,  7.,  3.,  2.,  1.,  1.,  1.,  2.]),\n",
       " array([2.10352215e-03, 5.57805484e-01, 1.11350745e+00, 1.66920941e+00,\n",
       "        2.22491137e+00, 2.78061333e+00, 3.33631529e+00, 3.89201725e+00,\n",
       "        4.44771922e+00, 5.00342118e+00, 5.55912314e+00]),\n",
       " <a list of 10 Patch objects>)"
      ]
     },
     "execution_count": 22,
     "metadata": {},
     "output_type": "execute_result"
    },
    {
     "data": {
      "image/png": "[encoded data removed]",
      "text/plain": [
       "<Figure size 432x288 with 1 Axes>"
      ]
     },
     "metadata": {
      "needs_background": "light"
     },
     "output_type": "display_data"
    }
   ],
   "source": [
    "b=stat.expon.rvs(size=100)\n",
    "plt.hist(b)"
   ]
  },
  {
   "cell_type": "code",
   "execution_count": 23,
   "metadata": {},
   "outputs": [
    {
     "data": {
      "text/plain": [
       "NormaltestResult(statistic=62.427710484289726, pvalue=2.77968068549231e-14)"
      ]
     },
     "execution_count": 23,
     "metadata": {},
     "output_type": "execute_result"
    }
   ],
   "source": [
    "stat.normaltest(b)"
   ]
  },
  {
   "cell_type": "code",
   "execution_count": 24,
   "metadata": {},
   "outputs": [
    {
     "data": {
      "text/plain": [
       "(0.7401881814002991, 5.1935287667670416e-12)"
      ]
     },
     "execution_count": 24,
     "metadata": {},
     "output_type": "execute_result"
    }
   ],
   "source": [
    "stat.shapiro(b)"
   ]
  },
  {
   "cell_type": "code",
   "execution_count": null,
   "metadata": {},
   "outputs": [],
   "source": [
    "#test de student"
   ]
  },
  {
   "cell_type": "code",
   "execution_count": 26,
   "metadata": {},
   "outputs": [
    {
     "data": {
      "text/plain": [
       "array([ 7.79986238,  9.57469988,  8.2958154 , 10.74666842, 11.27065512,\n",
       "       12.65627193,  9.79570309,  9.87536687, 13.55352134, 11.08047047,\n",
       "        8.03494464,  7.82301257,  9.68453488,  9.58950975, 10.61282057,\n",
       "       10.60800933, 10.45811298, 12.26792   , 12.4499539 ,  8.54557659,\n",
       "       10.64931343, 13.84404117, 10.16684067,  7.90614391, 10.75572376,\n",
       "       11.98474926, 11.57035834,  9.52653324, 10.15983074,  7.89738578,\n",
       "        9.33689386,  8.73753035,  6.66017381, 11.67723867,  9.02218753,\n",
       "       10.10364517, 10.13536288,  9.27455941, 14.32835573, 13.1488958 ])"
      ]
     },
     "execution_count": 26,
     "metadata": {},
     "output_type": "execute_result"
    }
   ],
   "source": [
    "echant=stat.norm.rvs(loc=10.2,scale=2.1,size=40)\n",
    "echant"
   ]
  },
  {
   "cell_type": "code",
   "execution_count": 27,
   "metadata": {},
   "outputs": [
    {
     "data": {
      "text/plain": [
       "(array([1., 5., 3., 7., 7., 6., 4., 3., 2., 2.]),\n",
       " array([ 6.66017381,  7.426992  ,  8.1938102 ,  8.96062839,  9.72744658,\n",
       "        10.49426477, 11.26108296, 12.02790116, 12.79471935, 13.56153754,\n",
       "        14.32835573]),\n",
       " <a list of 10 Patch objects>)"
      ]
     },
     "execution_count": 27,
     "metadata": {},
     "output_type": "execute_result"
    },
    {
     "data": {
      "image/png": "[encoded data removed]",
      "text/plain": [
       "<Figure size 432x288 with 1 Axes>"
      ]
     },
     "metadata": {
      "needs_background": "light"
     },
     "output_type": "display_data"
    }
   ],
   "source": [
    "plt.hist(echant)"
   ]
  },
  {
   "cell_type": "code",
   "execution_count": 28,
   "metadata": {},
   "outputs": [
    {
     "data": {
      "text/plain": [
       "NormaltestResult(statistic=0.8812456087874999, pvalue=0.6436354372505634)"
      ]
     },
     "execution_count": 28,
     "metadata": {},
     "output_type": "execute_result"
    }
   ],
   "source": [
    "stat.normaltest(echant)"
   ]
  },
  {
   "cell_type": "code",
   "execution_count": 29,
   "metadata": {},
   "outputs": [
    {
     "data": {
      "text/plain": [
       "(0.9789652228355408, 0.6511499285697937)"
      ]
     },
     "execution_count": 29,
     "metadata": {},
     "output_type": "execute_result"
    }
   ],
   "source": [
    "stat.shapiro(echant)"
   ]
  },
  {
   "cell_type": "code",
   "execution_count": 30,
   "metadata": {},
   "outputs": [
    {
     "data": {
      "text/plain": [
       "Ttest_1sampResult(statistic=-4.918873438504884, pvalue=1.617301652725489e-05)"
      ]
     },
     "execution_count": 30,
     "metadata": {},
     "output_type": "execute_result"
    }
   ],
   "source": [
    "stat.ttest_1samp(echant,popmean=11.7)\n",
    "# permet de savoir si l'écart entre un jeu de données et une norme est cohérhante"
   ]
  },
  {
   "cell_type": "code",
   "execution_count": 35,
   "metadata": {},
   "outputs": [],
   "source": [
    "# test de student 2 échantilion indépendants distrib normale\n",
    "groupe_test=np.array([24,43,58,71,43,49,61,44,67,49,53,56,59,52,62,64,57,33,46,43,57])\n",
    "groupe_temoin=np.array([42,43,55,26,62,37,33,41,19,54,20,85,46,10,17,60,53,42,37,42,55,28,48])"
   ]
  },
  {
   "cell_type": "code",
   "execution_count": 36,
   "metadata": {},
   "outputs": [
    {
     "data": {
      "text/plain": [
       "{'whiskers': [<matplotlib.lines.Line2D at 0x7f27453b1550>,\n",
       "  <matplotlib.lines.Line2D at 0x7f27453b1978>,\n",
       "  <matplotlib.lines.Line2D at 0x7f27453bcf60>,\n",
       "  <matplotlib.lines.Line2D at 0x7f2745342710>],\n",
       " 'caps': [<matplotlib.lines.Line2D at 0x7f27453b1da0>,\n",
       "  <matplotlib.lines.Line2D at 0x7f27453b1e80>,\n",
       "  <matplotlib.lines.Line2D at 0x7f2745342b38>,\n",
       "  <matplotlib.lines.Line2D at 0x7f2745342f60>],\n",
       " 'boxes': [<matplotlib.lines.Line2D at 0x7f27453a8f98>,\n",
       "  <matplotlib.lines.Line2D at 0x7f27453bce80>],\n",
       " 'medians': [<matplotlib.lines.Line2D at 0x7f27453bc630>,\n",
       "  <matplotlib.lines.Line2D at 0x7f274534c3c8>],\n",
       " 'fliers': [<matplotlib.lines.Line2D at 0x7f27453bca58>,\n",
       "  <matplotlib.lines.Line2D at 0x7f274534c7f0>],\n",
       " 'means': []}"
      ]
     },
     "execution_count": 36,
     "metadata": {},
     "output_type": "execute_result"
    },
    {
     "data": {
      "image/png": "[encoded data removed]",
      "text/plain": [
       "<Figure size 432x288 with 1 Axes>"
      ]
     },
     "metadata": {
      "needs_background": "light"
     },
     "output_type": "display_data"
    }
   ],
   "source": [
    "fig1,ax1 = plt.subplots()\n",
    "ax1.set_title('deux groupes independants distributions normales')\n",
    "groupe=[groupe_test,groupe_temoin]\n",
    "ax1.boxplot(groupe,vert=False,labels=[\"test\",\"témoins\"])"
   ]
  },
  {
   "cell_type": "code",
   "execution_count": 37,
   "metadata": {},
   "outputs": [
    {
     "data": {
      "text/plain": [
       "NormaltestResult(statistic=2.3139432105113693, pvalue=0.314436979755699)"
      ]
     },
     "execution_count": 37,
     "metadata": {},
     "output_type": "execute_result"
    }
   ],
   "source": [
    "stat.normaltest(groupe_test)"
   ]
  },
  {
   "cell_type": "code",
   "execution_count": 38,
   "metadata": {},
   "outputs": [
    {
     "data": {
      "text/plain": [
       "NormaltestResult(statistic=1.182131501933375, pvalue=0.5537368245925618)"
      ]
     },
     "execution_count": 38,
     "metadata": {},
     "output_type": "execute_result"
    }
   ],
   "source": [
    "stat.normaltest(groupe_temoin)"
   ]
  },
  {
   "cell_type": "code",
   "execution_count": 39,
   "metadata": {},
   "outputs": [
    {
     "data": {
      "text/plain": [
       "LeveneResult(statistic=1.8844219662562744, pvalue=0.1771183635176458)"
      ]
     },
     "execution_count": 39,
     "metadata": {},
     "output_type": "execute_result"
    }
   ],
   "source": [
    "#on teste si les variances sont homogènes: homoscédasticité\n",
    "stat.levene(groupe_test,groupe_temoin)"
   ]
  },
  {
   "cell_type": "code",
   "execution_count": 40,
   "metadata": {},
   "outputs": [
    {
     "data": {
      "text/plain": [
       "Ttest_indResult(statistic=2.3557550056607703, pvalue=0.023228908980946282)"
      ]
     },
     "execution_count": 40,
     "metadata": {},
     "output_type": "execute_result"
    }
   ],
   "source": [
    "stat.ttest_ind(groupe_test,groupe_temoin)"
   ]
  },
  {
   "cell_type": "code",
   "execution_count": 41,
   "metadata": {},
   "outputs": [
    {
     "data": {
      "text/plain": [
       "51.95238095238095"
      ]
     },
     "execution_count": 41,
     "metadata": {},
     "output_type": "execute_result"
    }
   ],
   "source": [
    "np.mean(groupe_test)"
   ]
  },
  {
   "cell_type": "code",
   "execution_count": 42,
   "metadata": {},
   "outputs": [
    {
     "data": {
      "text/plain": [
       "41.52173913043478"
      ]
     },
     "execution_count": 42,
     "metadata": {},
     "output_type": "execute_result"
    }
   ],
   "source": [
    "np.mean(groupe_temoin)"
   ]
  },
  {
   "cell_type": "code",
   "execution_count": 50,
   "metadata": {},
   "outputs": [],
   "source": [
    "#test de student: Deux séries de données appariées ou Wilcoxon(non paramétrique)\n",
    "avant=np.array([0.42,0.5,0.52,0.45,0.43,0.55,0.45,0.34,0.45,0.54,0.42,0.51,0.49,0.54,0.58,0.49,0.56,0.63])\n",
    "apres=np.array([0.45,0.5,0.53,0.45,0.46,0.55,0.60,0.49,0.35,0.55,0.53,0.57,0.53,0.59,0.64,0.5,0.57,0.64])"
   ]
  },
  {
   "cell_type": "code",
   "execution_count": 53,
   "metadata": {},
   "outputs": [
    {
     "name": "stderr",
     "output_type": "stream",
     "text": [
      "/home/littlejack/anaconda3/lib/python3.7/site-packages/scipy/stats/stats.py:1394: UserWarning: kurtosistest only valid for n>=20 ... continuing anyway, n=18\n",
      "  \"anyway, n=%i\" % int(n))\n"
     ]
    },
    {
     "data": {
      "text/plain": [
       "NormaltestResult(statistic=0.2684446468540763, pvalue=0.8743956443558065)"
      ]
     },
     "execution_count": 53,
     "metadata": {},
     "output_type": "execute_result"
    }
   ],
   "source": [
    "stat.normaltest(avant)"
   ]
  },
  {
   "cell_type": "code",
   "execution_count": 54,
   "metadata": {},
   "outputs": [
    {
     "name": "stderr",
     "output_type": "stream",
     "text": [
      "/home/littlejack/anaconda3/lib/python3.7/site-packages/scipy/stats/stats.py:1394: UserWarning: kurtosistest only valid for n>=20 ... continuing anyway, n=18\n",
      "  \"anyway, n=%i\" % int(n))\n"
     ]
    },
    {
     "data": {
      "text/plain": [
       "NormaltestResult(statistic=2.046136976300147, pvalue=0.3594901547495241)"
      ]
     },
     "execution_count": 54,
     "metadata": {},
     "output_type": "execute_result"
    }
   ],
   "source": [
    "stat.normaltest(apres)"
   ]
  },
  {
   "cell_type": "code",
   "execution_count": 51,
   "metadata": {},
   "outputs": [
    {
     "data": {
      "text/plain": [
       "Ttest_relResult(statistic=-2.528102914801153, pvalue=0.021663217585735146)"
      ]
     },
     "execution_count": 51,
     "metadata": {},
     "output_type": "execute_result"
    }
   ],
   "source": [
    "stat.ttest_rel(avant,apres)"
   ]
  },
  {
   "cell_type": "code",
   "execution_count": 52,
   "metadata": {},
   "outputs": [
    {
     "data": {
      "text/plain": [
       "WilcoxonResult(statistic=12.0, pvalue=0.006279148948549919)"
      ]
     },
     "execution_count": 52,
     "metadata": {},
     "output_type": "execute_result"
    }
   ],
   "source": [
    "stat.wilcoxon(avant,apres)"
   ]
  },
  {
   "cell_type": "code",
   "execution_count": null,
   "metadata": {},
   "outputs": [],
   "source": [
    "#test ANOVA (paramétrique ) et de Kruskal Yallis(non paramétrique)\n"
   ]
  },
  {
   "cell_type": "code",
   "execution_count": 58,
   "metadata": {},
   "outputs": [],
   "source": [
    "T1=np.array([22,28,44,35,33])\n",
    "T2=np.array([45,38,78,54,49])\n",
    "T3=np.array([54,35,64,45,50])"
   ]
  },
  {
   "cell_type": "code",
   "execution_count": 60,
   "metadata": {},
   "outputs": [
    {
     "data": {
      "text/plain": [
       "{'whiskers': [<matplotlib.lines.Line2D at 0x7f274553da90>,\n",
       "  <matplotlib.lines.Line2D at 0x7f274553deb8>,\n",
       "  <matplotlib.lines.Line2D at 0x7f2745133828>,\n",
       "  <matplotlib.lines.Line2D at 0x7f2745133c50>,\n",
       "  <matplotlib.lines.Line2D at 0x7f27454525c0>,\n",
       "  <matplotlib.lines.Line2D at 0x7f27454529e8>],\n",
       " 'caps': [<matplotlib.lines.Line2D at 0x7f274553df98>,\n",
       "  <matplotlib.lines.Line2D at 0x7f274549d748>,\n",
       "  <matplotlib.lines.Line2D at 0x7f2745133d30>,\n",
       "  <matplotlib.lines.Line2D at 0x7f274513a4e0>,\n",
       "  <matplotlib.lines.Line2D at 0x7f2745452e10>,\n",
       "  <matplotlib.lines.Line2D at 0x7f2745452ef0>],\n",
       " 'boxes': [<matplotlib.lines.Line2D at 0x7f274553d518>,\n",
       "  <matplotlib.lines.Line2D at 0x7f2745133400>,\n",
       "  <matplotlib.lines.Line2D at 0x7f274513add8>],\n",
       " 'medians': [<matplotlib.lines.Line2D at 0x7f274549db70>,\n",
       "  <matplotlib.lines.Line2D at 0x7f274513a908>,\n",
       "  <matplotlib.lines.Line2D at 0x7f27454566a0>],\n",
       " 'fliers': [<matplotlib.lines.Line2D at 0x7f274549df98>,\n",
       "  <matplotlib.lines.Line2D at 0x7f274513ad30>,\n",
       "  <matplotlib.lines.Line2D at 0x7f2745456ac8>],\n",
       " 'means': []}"
      ]
     },
     "execution_count": 60,
     "metadata": {},
     "output_type": "execute_result"
    },
    {
     "data": {
      "image/png": "[encoded data removed]",
      "text/plain": [
       "<Figure size 432x288 with 1 Axes>"
      ]
     },
     "metadata": {
      "needs_background": "light"
     },
     "output_type": "display_data"
    }
   ],
   "source": [
    "fig2,ax2 = plt.subplots()\n",
    "ax2.set_title('trois groupes de nains')\n",
    "groupe=[T1,T2,T3]\n",
    "ax2.boxplot(groupe,vert=False,labels=[\"medoc\",\"bio\",\"psy\"])"
   ]
  },
  {
   "cell_type": "code",
   "execution_count": 61,
   "metadata": {},
   "outputs": [
    {
     "data": {
      "text/plain": [
       "(0.9883646368980408, 0.9736566543579102)"
      ]
     },
     "execution_count": 61,
     "metadata": {},
     "output_type": "execute_result"
    }
   ],
   "source": [
    "stat.shapiro(T1)"
   ]
  },
  {
   "cell_type": "code",
   "execution_count": 62,
   "metadata": {},
   "outputs": [
    {
     "data": {
      "text/plain": [
       "(0.8884956240653992, 0.34959524869918823)"
      ]
     },
     "execution_count": 62,
     "metadata": {},
     "output_type": "execute_result"
    }
   ],
   "source": [
    "stat.shapiro(T2)"
   ]
  },
  {
   "cell_type": "code",
   "execution_count": 63,
   "metadata": {},
   "outputs": [
    {
     "data": {
      "text/plain": [
       "(0.9973207116127014, 0.9979820847511292)"
      ]
     },
     "execution_count": 63,
     "metadata": {},
     "output_type": "execute_result"
    }
   ],
   "source": [
    "stat.shapiro(T3)"
   ]
  },
  {
   "cell_type": "code",
   "execution_count": 64,
   "metadata": {},
   "outputs": [
    {
     "data": {
      "text/plain": [
       "DescribeResult(nobs=5, minmax=(22, 44), mean=32.4, variance=67.3, skewness=0.18662717246788363, kurtosis=-0.9145727034480018)"
      ]
     },
     "execution_count": 64,
     "metadata": {},
     "output_type": "execute_result"
    }
   ],
   "source": [
    "stat.describe(T1)"
   ]
  },
  {
   "cell_type": "code",
   "execution_count": 65,
   "metadata": {},
   "outputs": [
    {
     "data": {
      "text/plain": [
       "DescribeResult(nobs=5, minmax=(38, 78), mean=52.8, variance=232.70000000000002, skewness=0.9632785209682523, kurtosis=-0.37319722936348754)"
      ]
     },
     "execution_count": 65,
     "metadata": {},
     "output_type": "execute_result"
    }
   ],
   "source": [
    "stat.describe(T2)"
   ]
  },
  {
   "cell_type": "code",
   "execution_count": 66,
   "metadata": {},
   "outputs": [
    {
     "data": {
      "text/plain": [
       "DescribeResult(nobs=5, minmax=(35, 64), mean=49.6, variance=115.30000000000001, skewness=-0.031209354002752474, kurtosis=-0.901841720644287)"
      ]
     },
     "execution_count": 66,
     "metadata": {},
     "output_type": "execute_result"
    }
   ],
   "source": [
    "stat.describe(T3)"
   ]
  },
  {
   "cell_type": "code",
   "execution_count": 67,
   "metadata": {},
   "outputs": [
    {
     "data": {
      "text/plain": [
       "LeveneResult(statistic=0.3014521782674013, pvalue=0.745184192753678)"
      ]
     },
     "execution_count": 67,
     "metadata": {},
     "output_type": "execute_result"
    }
   ],
   "source": [
    "stat.levene(T1,T2,T3)"
   ]
  },
  {
   "cell_type": "code",
   "execution_count": 68,
   "metadata": {},
   "outputs": [
    {
     "data": {
      "text/plain": [
       "F_onewayResult(statistic=4.3477004575006015, pvalue=0.038005321610728095)"
      ]
     },
     "execution_count": 68,
     "metadata": {},
     "output_type": "execute_result"
    }
   ],
   "source": [
    "stat.f_oneway(T1,T2,T3)"
   ]
  },
  {
   "cell_type": "code",
   "execution_count": 76,
   "metadata": {},
   "outputs": [
    {
     "data": {
      "text/plain": [
       "Ttest_indResult(statistic=-2.84618458698243, pvalue=0.021605453111800843)"
      ]
     },
     "execution_count": 76,
     "metadata": {},
     "output_type": "execute_result"
    }
   ],
   "source": [
    "stat.ttest_ind(T1,T3)"
   ]
  },
  {
   "cell_type": "code",
   "execution_count": 77,
   "metadata": {},
   "outputs": [
    {
     "data": {
      "text/plain": [
       "Ttest_indResult(statistic=0.38357064118830675, pvalue=0.7112892976167434)"
      ]
     },
     "execution_count": 77,
     "metadata": {},
     "output_type": "execute_result"
    }
   ],
   "source": [
    "stat.ttest_ind(T2,T3)"
   ]
  },
  {
   "cell_type": "code",
   "execution_count": 78,
   "metadata": {},
   "outputs": [
    {
     "data": {
      "text/plain": [
       "Ttest_indResult(statistic=-2.6336286754210434, pvalue=0.030008649845931917)"
      ]
     },
     "execution_count": 78,
     "metadata": {},
     "output_type": "execute_result"
    }
   ],
   "source": [
    "stat.ttest_ind(T1,T2)"
   ]
  },
  {
   "cell_type": "code",
   "execution_count": 79,
   "metadata": {},
   "outputs": [
    {
     "data": {
      "text/plain": [
       "KruskalResult(statistic=7.645960502692995, pvalue=0.02186254781970001)"
      ]
     },
     "execution_count": 79,
     "metadata": {},
     "output_type": "execute_result"
    }
   ],
   "source": [
    "stat.kruskal(T1,T2,T3)"
   ]
  },
  {
   "cell_type": "code",
   "execution_count": 80,
   "metadata": {},
   "outputs": [],
   "source": [
    "#test de liaison: corrélation de spearmann (non paramétrique)\n",
    "import pandas as pd"
   ]
  },
  {
   "cell_type": "code",
   "execution_count": 81,
   "metadata": {},
   "outputs": [],
   "source": [
    "data=pd.read_csv(\"data2.csv\",sep=';')"
   ]
  },
  {
   "cell_type": "code",
   "execution_count": 83,
   "metadata": {},
   "outputs": [
    {
     "data": {
      "text/plain": [
       "SpearmanrResult(correlation=array([[ 1.        ,  0.27220415,  0.02989934, -0.03451333,  0.46590771],\n",
       "       [ 0.27220415,  1.        , -0.12160131, -0.07715498,  0.11290395],\n",
       "       [ 0.02989934, -0.12160131,  1.        , -0.22275703, -0.08096516],\n",
       "       [-0.03451333, -0.07715498, -0.22275703,  1.        ,  0.15770467],\n",
       "       [ 0.46590771,  0.11290395, -0.08096516,  0.15770467,  1.        ]]), pvalue=array([[0.00000000e+00, 6.14848772e-03, 7.67764453e-01, 7.33182093e-01,\n",
       "        1.03482588e-06],\n",
       "       [6.14848772e-03, 0.00000000e+00, 2.28124899e-01, 4.45470652e-01,\n",
       "        2.63385455e-01],\n",
       "       [7.67764453e-01, 2.28124899e-01, 0.00000000e+00, 2.59050072e-02,\n",
       "        4.23254289e-01],\n",
       "       [7.33182093e-01, 4.45470652e-01, 2.59050072e-02, 0.00000000e+00,\n",
       "        1.17104761e-01],\n",
       "       [1.03482588e-06, 2.63385455e-01, 4.23254289e-01, 1.17104761e-01,\n",
       "        0.00000000e+00]]))"
      ]
     },
     "execution_count": 83,
     "metadata": {},
     "output_type": "execute_result"
    }
   ],
   "source": [
    "stat.spearmanr(data)"
   ]
  },
  {
   "cell_type": "code",
   "execution_count": 87,
   "metadata": {},
   "outputs": [
    {
     "data": {
      "text/plain": [
       "<matplotlib.image.AxesImage at 0x7f273d88edd8>"
      ]
     },
     "execution_count": 87,
     "metadata": {},
     "output_type": "execute_result"
    },
    {
     "data": {
      "image/png": "[encoded data removed]",
      "text/plain": [
       "<Figure size 288x288 with 1 Axes>"
      ]
     },
     "metadata": {
      "needs_background": "light"
     },
     "output_type": "display_data"
    }
   ],
   "source": [
    "coor=data.corr()\n",
    "plt.matshow(coor)"
   ]
  },
  {
   "cell_type": "code",
   "execution_count": 90,
   "metadata": {},
   "outputs": [
    {
     "name": "stderr",
     "output_type": "stream",
     "text": [
      "/home/littlejack/anaconda3/lib/python3.7/site-packages/ipykernel_launcher.py:1: FutureWarning: pandas.scatter_matrix is deprecated, use pandas.plotting.scatter_matrix instead\n",
      "  \"\"\"Entry point for launching an IPython kernel.\n"
     ]
    },
    {
     "data": {
      "text/plain": [
       "array([[<matplotlib.axes._subplots.AxesSubplot object at 0x7f273d899748>,\n",
       "        <matplotlib.axes._subplots.AxesSubplot object at 0x7f273c2a37b8>,\n",
       "        <matplotlib.axes._subplots.AxesSubplot object at 0x7f273c2c0ba8>,\n",
       "        <matplotlib.axes._subplots.AxesSubplot object at 0x7f273c271278>,\n",
       "        <matplotlib.axes._subplots.AxesSubplot object at 0x7f273c29b908>],\n",
       "       [<matplotlib.axes._subplots.AxesSubplot object at 0x7f273c29b940>,\n",
       "        <matplotlib.axes._subplots.AxesSubplot object at 0x7f273c1f3668>,\n",
       "        <matplotlib.axes._subplots.AxesSubplot object at 0x7f273c21ccf8>,\n",
       "        <matplotlib.axes._subplots.AxesSubplot object at 0x7f273c1ce3c8>,\n",
       "        <matplotlib.axes._subplots.AxesSubplot object at 0x7f273c175a58>],\n",
       "       [<matplotlib.axes._subplots.AxesSubplot object at 0x7f273c128128>,\n",
       "        <matplotlib.axes._subplots.AxesSubplot object at 0x7f273c1517b8>,\n",
       "        <matplotlib.axes._subplots.AxesSubplot object at 0x7f273c0f7e48>,\n",
       "        <matplotlib.axes._subplots.AxesSubplot object at 0x7f273c0ab518>,\n",
       "        <matplotlib.axes._subplots.AxesSubplot object at 0x7f273c0d3ba8>],\n",
       "       [<matplotlib.axes._subplots.AxesSubplot object at 0x7f273c082278>,\n",
       "        <matplotlib.axes._subplots.AxesSubplot object at 0x7f273c02b908>,\n",
       "        <matplotlib.axes._subplots.AxesSubplot object at 0x7f273c056f98>,\n",
       "        <matplotlib.axes._subplots.AxesSubplot object at 0x7f2736fe1668>,\n",
       "        <matplotlib.axes._subplots.AxesSubplot object at 0x7f2736f8acf8>],\n",
       "       [<matplotlib.axes._subplots.AxesSubplot object at 0x7f2736fbc3c8>,\n",
       "        <matplotlib.axes._subplots.AxesSubplot object at 0x7f2736f61a58>,\n",
       "        <matplotlib.axes._subplots.AxesSubplot object at 0x7f2736f17128>,\n",
       "        <matplotlib.axes._subplots.AxesSubplot object at 0x7f2736f3d780>,\n",
       "        <matplotlib.axes._subplots.AxesSubplot object at 0x7f2736ee4e10>]],\n",
       "      dtype=object)"
      ]
     },
     "execution_count": 90,
     "metadata": {},
     "output_type": "execute_result"
    },
    {
     "data": {
      "image/png": "[encoded data removed]",
      "text/plain": [
       "<Figure size 864x432 with 25 Axes>"
      ]
     },
     "metadata": {
      "needs_background": "light"
     },
     "output_type": "display_data"
    }
   ],
   "source": [
    "pd.scatter_matrix(data,alpha =0.3,figsize=(12,6),diagonal='kde')"
   ]
  },
  {
   "cell_type": "code",
   "execution_count": null,
   "metadata": {},
   "outputs": [],
   "source": []
  }
 ],
 "metadata": {
  "kernelspec": {
   "display_name": "Python 3",
   "language": "python",
   "name": "python3"
  },
  "language_info": {
   "codemirror_mode": {
    "name": "ipython",
    "version": 3
   },
   "file_extension": ".py",
   "mimetype": "text/x-python",
   "name": "python",
   "nbconvert_exporter": "python",
   "pygments_lexer": "ipython3",
   "version": "3.7.0"
  }
 },
 "nbformat": 4,
 "nbformat_minor": 2
}
