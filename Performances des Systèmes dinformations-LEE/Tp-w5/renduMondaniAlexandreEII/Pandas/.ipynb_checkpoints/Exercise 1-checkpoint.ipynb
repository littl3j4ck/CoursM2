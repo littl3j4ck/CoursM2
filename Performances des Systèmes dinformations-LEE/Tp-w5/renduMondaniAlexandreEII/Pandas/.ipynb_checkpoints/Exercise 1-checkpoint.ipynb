{
 "cells": [
  {
   "cell_type": "code",
   "execution_count": 1,
   "metadata": {},
   "outputs": [],
   "source": [
    "import pandas as pd\n",
    "import numpy as np\n",
    "import seaborn as sns\n",
    "import matplotlib.pyplot as plt\n",
    "import sqlite3 as sql\n",
    "sns.set()\n",
    "%matplotlib inline"
   ]
  },
  {
   "cell_type": "code",
   "execution_count": 2,
   "metadata": {},
   "outputs": [],
   "source": [
    "conn = sql.connect('data/test.db')"
   ]
  },
  {
   "cell_type": "code",
   "execution_count": 3,
   "metadata": {},
   "outputs": [],
   "source": [
    "np.random.seed(1897)\n",
    "df_1 = pd.DataFrame({'Id':np.arange(1,21),\n",
    "                     'ProdId': ['A','B','C','D']*5,\n",
    "                     'Length': np.random.randint(20,40,size=20),\n",
    "                     'Height': np.random.randint(10,35,size=20)})\n",
    "\n",
    "df_2 = pd.DataFrame({'Id':np.random.randint(10,size=100),\n",
    "                     'Date':pd.to_timedelta(np.random.randint(0,1000,size=100), unit='d')+pd.datetime(2015,1,1),\n",
    "                     'Cat_1': np.array(['A','B','C','D'])[np.random.randint(4,size=100)],\n",
    "                     'Cat_2': np.array(['S','T','Q','R'])[np.random.randint(4,size=100)]})"
   ]
  },
  {
   "cell_type": "markdown",
   "metadata": {},
   "source": [
    "# Assignment 1\n",
    "Load the sheets `Customers` and `Products` from the Excel file `data/master_data.xlsx`. Store the data from the `Customers` sheet in `cust_df` and the data from the `Products` sheet in `prod_df`.\n",
    "<details><summary>Hint 1</summary>\n",
    "    <p>\n",
    "        The pandas function `read_excel` has an option `sheet_name`, that let's one specify which sheets to extract\n",
    "    </p>\n",
    "</details>\n",
    "<details><summary>Hint 2</summary>\n",
    "    <p>\n",
    "        The pandas function `read_excel` returns a dictionary with the sheet names as keys\n",
    "    </p>\n",
    "</details>"
   ]
  },
  {
   "cell_type": "code",
   "execution_count": 4,
   "metadata": {},
   "outputs": [],
   "source": [
    "cust_df = pd.read_excel('data/master_data.xlsx','Customers')\n",
    "prod_df = pd.read_excel('data/master_data.xlsx','Products')"
   ]
  },
  {
   "cell_type": "markdown",
   "metadata": {},
   "source": [
    "# Assignment 2\n",
    "The CSV file `data/bad_form.csv` follows a rather odd format:\n",
    "* The columns are separated by `|`\n",
    "* There are several comment lines. Each comment is indicated by `//`\n",
    "* True values in the Boolean columns are marked by `Yes`\n",
    "* False values in the Boolean columns are marked by `Nope`\n",
    "* Decimals are indicated by `,`\n",
    "* The string columns contain characters in `latin-1` encoding\n",
    "* In column **B** the missing values are indicated by `Missing`\n",
    "* In column **C** the missing values are indicated by `Not here`\n",
    "* The first 5 lines in the file is merely a header - should not be loaded\n",
    "* The last 10 lines make out the footer - should not be loaded\n",
    "\n",
    "Load the file in a DataFrame with the column `Id` as index.\n",
    "<details><summary>Hint 1</summary>\n",
    "    <p>\n",
    "        Look into the documentation for parameters `sep`, `comment`, `true_values`, `false_values`, `index_col`, `skiprows`, `skipfooter`, `na_values`, `encoding` and `decimal` for the pandas function `read_csv`.\n",
    "    </p>\n",
    "</details>"
   ]
  },
  {
   "cell_type": "code",
   "execution_count": 5,
   "metadata": {},
   "outputs": [
    {
     "data": {
      "text/html": [
       "<div>\n",
       "<style scoped>\n",
       "    .dataframe tbody tr th:only-of-type {\n",
       "        vertical-align: middle;\n",
       "    }\n",
       "\n",
       "    .dataframe tbody tr th {\n",
       "        vertical-align: top;\n",
       "    }\n",
       "\n",
       "    .dataframe thead th {\n",
       "        text-align: right;\n",
       "    }\n",
       "</style>\n",
       "<table border=\"1\" class=\"dataframe\">\n",
       "  <thead>\n",
       "    <tr style=\"text-align: right;\">\n",
       "      <th></th>\n",
       "      <th>A</th>\n",
       "      <th>B</th>\n",
       "      <th>C</th>\n",
       "      <th>D</th>\n",
       "      <th>E</th>\n",
       "    </tr>\n",
       "    <tr>\n",
       "      <th>Id</th>\n",
       "      <th></th>\n",
       "      <th></th>\n",
       "      <th></th>\n",
       "      <th></th>\n",
       "      <th></th>\n",
       "    </tr>\n",
       "  </thead>\n",
       "  <tbody>\n",
       "    <tr>\n",
       "      <th>1</th>\n",
       "      <td>True</td>\n",
       "      <td>NaN</td>\n",
       "      <td>Whisky</td>\n",
       "      <td>2.500000</td>\n",
       "      <td>Else</td>\n",
       "    </tr>\n",
       "    <tr>\n",
       "      <th>2</th>\n",
       "      <td>True</td>\n",
       "      <td>Hotel</td>\n",
       "      <td>NaN</td>\n",
       "      <td>0.400000</td>\n",
       "      <td>Elsker</td>\n",
       "    </tr>\n",
       "    <tr>\n",
       "      <th>3</th>\n",
       "      <td>False</td>\n",
       "      <td>Echo</td>\n",
       "      <td>Oskar</td>\n",
       "      <td>1.200000</td>\n",
       "      <td>Pelse</td>\n",
       "    </tr>\n",
       "    <tr>\n",
       "      <th>4</th>\n",
       "      <td>False</td>\n",
       "      <td>NaN</td>\n",
       "      <td>NaN</td>\n",
       "      <td>8.000000</td>\n",
       "      <td>Else</td>\n",
       "    </tr>\n",
       "    <tr>\n",
       "      <th>7</th>\n",
       "      <td>False</td>\n",
       "      <td>NaN</td>\n",
       "      <td>Romeo</td>\n",
       "      <td>4.700000</td>\n",
       "      <td>Elsker</td>\n",
       "    </tr>\n",
       "    <tr>\n",
       "      <th>8</th>\n",
       "      <td>True</td>\n",
       "      <td>NaN</td>\n",
       "      <td>Lima</td>\n",
       "      <td>3.141592</td>\n",
       "      <td>Pølse</td>\n",
       "    </tr>\n",
       "    <tr>\n",
       "      <th>9</th>\n",
       "      <td>False</td>\n",
       "      <td>Lima</td>\n",
       "      <td>NaN</td>\n",
       "      <td>2.717270</td>\n",
       "      <td>Pølser</td>\n",
       "    </tr>\n",
       "    <tr>\n",
       "      <th>11</th>\n",
       "      <td>True</td>\n",
       "      <td>NaN</td>\n",
       "      <td>NaN</td>\n",
       "      <td>0.690000</td>\n",
       "      <td>Åd</td>\n",
       "    </tr>\n",
       "    <tr>\n",
       "      <th>12</th>\n",
       "      <td>False</td>\n",
       "      <td>Lima</td>\n",
       "      <td>Delta</td>\n",
       "      <td>1.410000</td>\n",
       "      <td>Hun</td>\n",
       "    </tr>\n",
       "    <tr>\n",
       "      <th>13</th>\n",
       "      <td>False</td>\n",
       "      <td>NaN</td>\n",
       "      <td>!</td>\n",
       "      <td>1.618000</td>\n",
       "      <td>Dagen</td>\n",
       "    </tr>\n",
       "  </tbody>\n",
       "</table>\n",
       "</div>"
      ],
      "text/plain": [
       "        A      B       C         D       E\n",
       "Id                                        \n",
       "1    True    NaN  Whisky  2.500000    Else\n",
       "2    True  Hotel     NaN  0.400000  Elsker\n",
       "3   False   Echo   Oskar  1.200000   Pelse\n",
       "4   False    NaN     NaN  8.000000    Else\n",
       "7   False    NaN   Romeo  4.700000  Elsker\n",
       "8    True    NaN    Lima  3.141592   Pølse\n",
       "9   False   Lima     NaN  2.717270  Pølser\n",
       "11   True    NaN     NaN  0.690000      Åd\n",
       "12  False   Lima   Delta  1.410000     Hun\n",
       "13  False    NaN       !  1.618000   Dagen"
      ]
     },
     "execution_count": 5,
     "metadata": {},
     "output_type": "execute_result"
    }
   ],
   "source": [
    "bad_form_df = pd.read_csv('data/bad_form.csv',engine = 'python',sep ='|',comment = '//',true_values = ['Yes'],false_values = ['Nope'],decimal = ',',encoding = 'latin-1',na_values = ['Missing','Not here'],skiprows = 5,skipfooter = 10,index_col = 0)\n",
    "bad_form_df.head(10)"
   ]
  },
  {
   "cell_type": "markdown",
   "metadata": {},
   "source": [
    "# Assignment 3\n",
    "Write the content of the DataFrame `df_1` into the table `product_dimensions` in the database `test.db`. The connection to the database has already been set up in the variable `conn`.\n",
    "<details><summary>Hint 1</summary>\n",
    "    <p>\n",
    "        Use the `to_sql` method for the DataFrame to write it to the database\n",
    "    </p>\n",
    "</details>"
   ]
  },
  {
   "cell_type": "code",
   "execution_count": 6,
   "metadata": {},
   "outputs": [],
   "source": [
    "df_1.to_sql(name='product_dimensions',con = conn, if_exists='replace' )"
   ]
  },
  {
   "cell_type": "markdown",
   "metadata": {},
   "source": [
    "# Assignment 4\n",
    "Compute the average area of each product in `product_dimensions` using a SQL statement. Then proceed to load the data in two lines at a time, and print out the result.\n",
    "<details><summary>Hint 1</summary>\n",
    "    <p>\n",
    "        The pandas function `read_sql` can be used to parse a SQL statement to a database and store the result into a DataFrame\n",
    "    </p>\n",
    "</details>\n",
    "<details><summary>Hint 2</summary>\n",
    "    <p>\n",
    "        Setting the parameter `chunksize` controls the number of records returned at a time\n",
    "    </p>\n",
    "</details>\n",
    "<details><summary>Hint 3</summary>\n",
    "    <p>\n",
    "        With a set `chunksize` you can subsequently loop over the reader object, that is returned from `read_sql`\n",
    "    </p>\n",
    "</details>"
   ]
  },
  {
   "cell_type": "code",
   "execution_count": 7,
   "metadata": {},
   "outputs": [
    {
     "name": "stdout",
     "output_type": "stream",
     "text": [
      "  ProdId  length  height\n",
      "0      A    31.0    20.6\n",
      "1      B    29.0    20.2\n",
      "  ProdId  length  height\n",
      "0      C    26.4    26.2\n",
      "1      D    28.2    23.8\n"
     ]
    }
   ],
   "source": [
    "for chunk in pd.read_sql('select product_dimensions.ProdId, AVG(product_dimensions.Length) AS length,AVG(product_dimensions.Height) AS height from product_dimensions group by product_dimensions.ProdId',con=conn,chunksize = 2):\n",
    "    print(chunk)"
   ]
  },
  {
   "cell_type": "markdown",
   "metadata": {},
   "source": [
    "# Assignment 5\n",
    "For each `ID` extract the records up until the first time a `B` or a `C` appears in the `Cat_1` column, or a `R` or a `S` appears in the `Cat_2` column. The `Date` column indicates the order of the observations.\n",
    "<details><summary>Hint 1</summary>\n",
    "    <p>\n",
    "        The `groupby` method preserves the order of the records as they had in the original DataFrame\n",
    "    </p>\n",
    "</details>\n",
    "<details><summary>Hint 2</summary>\n",
    "    <p>\n",
    "        Applying the `cummax` method to a Boolean column returns 0 for every record, until the first True value is reached. From that point on it returns a 1.\n",
    "    </p>\n",
    "</details>\n",
    "<details><summary>Hint 3</summary>\n",
    "    <p>\n",
    "        Using the index to merge the results onto the original DataFrame makes it possible to select the rows with value 0 in the new column.\n",
    "    </p>\n",
    "</details>"
   ]
  },
  {
   "cell_type": "code",
   "execution_count": 23,
   "metadata": {},
   "outputs": [],
   "source": [
    "#création des dictonnaires (utilisés pour savoir si on prend la ligne ou pas)\n",
    "dict_Cat1= {'B':True,'C':True}\n",
    "dict_Cat2= {'R':True,'S':True}\n",
    "list_id= {0,1,2,3,4,5,6,7,8,9}\n",
    "#création autre dataframe pour rajouter les colonnes Bool_Cat_1 et bool_cat_2\n",
    "df_test= pd.DataFrame(data=df_2)\n"
   ]
  },
  {
   "cell_type": "code",
   "execution_count": 9,
   "metadata": {},
   "outputs": [],
   "source": [
    "#on rajoute les colonnes Bool_Cat_1 et bool_Cat_2 et on fait les tests\n",
    "df_test['Bool_Cat_1'] = df_2['Cat_1'].map(dict_Cat1)\n",
    "df_test['Bool_Cat_2'] = df_2['Cat_2'].map(dict_Cat2)"
   ]
  },
  {
   "cell_type": "code",
   "execution_count": 61,
   "metadata": {},
   "outputs": [],
   "source": [
    "#toute valeur en NaN passe à false.\n",
    "df_test['Bool_Cat_1'] = df_test['Bool_Cat_1'].fillna(value = False)\n",
    "df_test['Bool_Cat_2'] = df_test['Bool_Cat_2'].fillna(value = False)\n",
    "df_sort= pd.DataFrame(columns=df_test.columns)\n",
    "\n"
   ]
  },
  {
   "cell_type": "code",
   "execution_count": 62,
   "metadata": {},
   "outputs": [],
   "source": [
    "ID = 0\n",
    "\n",
    "while ID <= 9:\n",
    "    Index = 0\n",
    "    # on recupère les rows correspondant à l'ID\n",
    "    df_ID = df_test.loc[df_test['Id'] == ID]\n",
    "    # on reset l'id\n",
    "    df_ID=df_ID.reset_index()\n",
    "    del df_ID['index']\n",
    "    #on récupère la valeur max de l'id\n",
    "    max_index= df_ID.last_valid_index()\n",
    "    while Index <= max_index:\n",
    "        if df_ID.at[Index,'Bool_Cat_1'] == True or df_ID.at[Index,'Bool_Cat_2'] == True  :\n",
    "            Index = max_index + 1\n",
    "            ID = ID + 1\n",
    "        else:\n",
    "            df_sort = df_sort.append(df_ID.loc[[Index]],ignore_index=True)\n",
    "            Index = Index + 1\n",
    "           \n",
    "\n",
    "    \n"
   ]
  },
  {
   "cell_type": "code",
   "execution_count": 63,
   "metadata": {},
   "outputs": [
    {
     "data": {
      "text/html": [
       "<div>\n",
       "<style scoped>\n",
       "    .dataframe tbody tr th:only-of-type {\n",
       "        vertical-align: middle;\n",
       "    }\n",
       "\n",
       "    .dataframe tbody tr th {\n",
       "        vertical-align: top;\n",
       "    }\n",
       "\n",
       "    .dataframe thead th {\n",
       "        text-align: right;\n",
       "    }\n",
       "</style>\n",
       "<table border=\"1\" class=\"dataframe\">\n",
       "  <thead>\n",
       "    <tr style=\"text-align: right;\">\n",
       "      <th></th>\n",
       "      <th>Id</th>\n",
       "      <th>Date</th>\n",
       "      <th>Cat_1</th>\n",
       "      <th>Cat_2</th>\n",
       "      <th>Bool_Cat_1</th>\n",
       "      <th>Bool_Cat_2</th>\n",
       "    </tr>\n",
       "  </thead>\n",
       "  <tbody>\n",
       "    <tr>\n",
       "      <th>0</th>\n",
       "      <td>0</td>\n",
       "      <td>2017-08-28</td>\n",
       "      <td>A</td>\n",
       "      <td>Q</td>\n",
       "      <td>False</td>\n",
       "      <td>False</td>\n",
       "    </tr>\n",
       "    <tr>\n",
       "      <th>1</th>\n",
       "      <td>0</td>\n",
       "      <td>2016-06-07</td>\n",
       "      <td>D</td>\n",
       "      <td>T</td>\n",
       "      <td>False</td>\n",
       "      <td>False</td>\n",
       "    </tr>\n",
       "    <tr>\n",
       "      <th>2</th>\n",
       "      <td>0</td>\n",
       "      <td>2016-11-20</td>\n",
       "      <td>D</td>\n",
       "      <td>T</td>\n",
       "      <td>False</td>\n",
       "      <td>False</td>\n",
       "    </tr>\n",
       "    <tr>\n",
       "      <th>3</th>\n",
       "      <td>3</td>\n",
       "      <td>2016-04-11</td>\n",
       "      <td>A</td>\n",
       "      <td>Q</td>\n",
       "      <td>False</td>\n",
       "      <td>False</td>\n",
       "    </tr>\n",
       "    <tr>\n",
       "      <th>4</th>\n",
       "      <td>8</td>\n",
       "      <td>2017-05-23</td>\n",
       "      <td>A</td>\n",
       "      <td>T</td>\n",
       "      <td>False</td>\n",
       "      <td>False</td>\n",
       "    </tr>\n",
       "  </tbody>\n",
       "</table>\n",
       "</div>"
      ],
      "text/plain": [
       "  Id       Date Cat_1 Cat_2 Bool_Cat_1 Bool_Cat_2\n",
       "0  0 2017-08-28     A     Q      False      False\n",
       "1  0 2016-06-07     D     T      False      False\n",
       "2  0 2016-11-20     D     T      False      False\n",
       "3  3 2016-04-11     A     Q      False      False\n",
       "4  8 2017-05-23     A     T      False      False"
      ]
     },
     "execution_count": 63,
     "metadata": {},
     "output_type": "execute_result"
    }
   ],
   "source": [
    "df_sort"
   ]
  }
 ],
 "metadata": {
  "kernelspec": {
   "display_name": "Python 3",
   "language": "python",
   "name": "python3"
  },
  "language_info": {
   "codemirror_mode": {
    "name": "ipython",
    "version": 3
   },
   "file_extension": ".py",
   "mimetype": "text/x-python",
   "name": "python",
   "nbconvert_exporter": "python",
   "pygments_lexer": "ipython3",
   "version": "3.7.0"
  }
 },
 "nbformat": 4,
 "nbformat_minor": 2
}
